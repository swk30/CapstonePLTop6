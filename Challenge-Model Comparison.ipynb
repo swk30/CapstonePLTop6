{
 "cells": [
  {
   "cell_type": "code",
   "execution_count": 2,
   "metadata": {},
   "outputs": [],
   "source": [
    "import math\n",
    "import warnings\n",
    "\n",
    "from IPython.display import display\n",
    "import pandas as pd\n",
    "import numpy as np\n",
    "import scipy\n",
    "import matplotlib.pyplot as plt\n",
    "from sklearn import neighbors\n",
    "from sklearn.model_selection import cross_val_score\n",
    "import seaborn as sns\n",
    "from sklearn import linear_model\n",
    "import statsmodels.formula.api as smf\n",
    "%matplotlib inline\n",
    "\n",
    "pd.options.display.float_format = '{:.3f}'.format\n",
    "\n",
    "warnings.filterwarnings(\n",
    "    action=\"ignore\",\n",
    "    module=\"scipy\",\n",
    "    message=\"^internal gelsd\"\n",
    ")"
   ]
  },
  {
   "cell_type": "code",
   "execution_count": 3,
   "metadata": {},
   "outputs": [
    {
     "data": {
      "text/html": [
       "<div>\n",
       "<style scoped>\n",
       "    .dataframe tbody tr th:only-of-type {\n",
       "        vertical-align: middle;\n",
       "    }\n",
       "\n",
       "    .dataframe tbody tr th {\n",
       "        vertical-align: top;\n",
       "    }\n",
       "\n",
       "    .dataframe thead th {\n",
       "        text-align: right;\n",
       "    }\n",
       "</style>\n",
       "<table border=\"1\" class=\"dataframe\">\n",
       "  <thead>\n",
       "    <tr style=\"text-align: right;\">\n",
       "      <th></th>\n",
       "      <th>Year Type</th>\n",
       "      <th>Year</th>\n",
       "      <th>Organization Group Code</th>\n",
       "      <th>Organization Group</th>\n",
       "      <th>Department Code</th>\n",
       "      <th>Department</th>\n",
       "      <th>Union Code</th>\n",
       "      <th>Union</th>\n",
       "      <th>Job Family Code</th>\n",
       "      <th>Job Family</th>\n",
       "      <th>...</th>\n",
       "      <th>Employee Identifier</th>\n",
       "      <th>Salaries</th>\n",
       "      <th>Overtime</th>\n",
       "      <th>Other Salaries</th>\n",
       "      <th>Total Salary</th>\n",
       "      <th>Retirement</th>\n",
       "      <th>Health/Dental</th>\n",
       "      <th>Other Benefits</th>\n",
       "      <th>Total Benefits</th>\n",
       "      <th>Total Compensation</th>\n",
       "    </tr>\n",
       "  </thead>\n",
       "  <tbody>\n",
       "    <tr>\n",
       "      <th>0</th>\n",
       "      <td>Fiscal</td>\n",
       "      <td>2013</td>\n",
       "      <td>1</td>\n",
       "      <td>Public Protection</td>\n",
       "      <td>FIR</td>\n",
       "      <td>FIR Fire Department</td>\n",
       "      <td>798.000</td>\n",
       "      <td>Firefighters - Miscellaneous, Local 798</td>\n",
       "      <td>H000</td>\n",
       "      <td>Fire Services</td>\n",
       "      <td>...</td>\n",
       "      <td>37216</td>\n",
       "      <td>123841.280</td>\n",
       "      <td>76853.770</td>\n",
       "      <td>14922.050</td>\n",
       "      <td>215617.100</td>\n",
       "      <td>24574.980</td>\n",
       "      <td>14920.130</td>\n",
       "      <td>3589.870</td>\n",
       "      <td>43084.980</td>\n",
       "      <td>258702.080</td>\n",
       "    </tr>\n",
       "    <tr>\n",
       "      <th>1</th>\n",
       "      <td>Fiscal</td>\n",
       "      <td>2014</td>\n",
       "      <td>2</td>\n",
       "      <td>Public Works, Transportation &amp; Commerce</td>\n",
       "      <td>MTA</td>\n",
       "      <td>MTA Municipal Transprtn Agncy</td>\n",
       "      <td>261.000</td>\n",
       "      <td>Laborers, Local 261</td>\n",
       "      <td>7500</td>\n",
       "      <td>Semi-Skilled &amp; General Labor</td>\n",
       "      <td>...</td>\n",
       "      <td>24950</td>\n",
       "      <td>61137.600</td>\n",
       "      <td>7341.040</td>\n",
       "      <td>9218.740</td>\n",
       "      <td>77697.380</td>\n",
       "      <td>14897.710</td>\n",
       "      <td>12516.700</td>\n",
       "      <td>6117.990</td>\n",
       "      <td>33532.400</td>\n",
       "      <td>111229.780</td>\n",
       "    </tr>\n",
       "    <tr>\n",
       "      <th>2</th>\n",
       "      <td>Fiscal</td>\n",
       "      <td>2016</td>\n",
       "      <td>2</td>\n",
       "      <td>Public Works, Transportation &amp; Commerce</td>\n",
       "      <td>AIR</td>\n",
       "      <td>AIR Airport Commission</td>\n",
       "      <td>790.000</td>\n",
       "      <td>SEIU - Miscellaneous, Local 1021</td>\n",
       "      <td>1400</td>\n",
       "      <td>Clerical, Secretarial &amp; Steno</td>\n",
       "      <td>...</td>\n",
       "      <td>27447</td>\n",
       "      <td>41192.820</td>\n",
       "      <td>0.000</td>\n",
       "      <td>390.000</td>\n",
       "      <td>41582.820</td>\n",
       "      <td>6996.410</td>\n",
       "      <td>11308.960</td>\n",
       "      <td>3200.690</td>\n",
       "      <td>21506.060</td>\n",
       "      <td>63088.880</td>\n",
       "    </tr>\n",
       "    <tr>\n",
       "      <th>3</th>\n",
       "      <td>Fiscal</td>\n",
       "      <td>2015</td>\n",
       "      <td>2</td>\n",
       "      <td>Public Works, Transportation &amp; Commerce</td>\n",
       "      <td>MTA</td>\n",
       "      <td>MTA Municipal Transprtn Agncy</td>\n",
       "      <td>253.000</td>\n",
       "      <td>Transport Workers - Transit Operators, Local 2...</td>\n",
       "      <td>9100</td>\n",
       "      <td>Street Transit</td>\n",
       "      <td>...</td>\n",
       "      <td>42001</td>\n",
       "      <td>66993.680</td>\n",
       "      <td>26633.830</td>\n",
       "      <td>4494.980</td>\n",
       "      <td>98122.490</td>\n",
       "      <td>21231.910</td>\n",
       "      <td>13417.450</td>\n",
       "      <td>7449.630</td>\n",
       "      <td>42098.990</td>\n",
       "      <td>140221.480</td>\n",
       "    </tr>\n",
       "    <tr>\n",
       "      <th>4</th>\n",
       "      <td>Fiscal</td>\n",
       "      <td>2013</td>\n",
       "      <td>2</td>\n",
       "      <td>Public Works, Transportation &amp; Commerce</td>\n",
       "      <td>DPW</td>\n",
       "      <td>DPW GSA - Public Works</td>\n",
       "      <td>21.000</td>\n",
       "      <td>Prof &amp; Tech Engineers - Miscellaneous, Local 21</td>\n",
       "      <td>5200</td>\n",
       "      <td>Professional Engineering</td>\n",
       "      <td>...</td>\n",
       "      <td>22142</td>\n",
       "      <td>74260.800</td>\n",
       "      <td>0.000</td>\n",
       "      <td>0.000</td>\n",
       "      <td>74260.800</td>\n",
       "      <td>13522.950</td>\n",
       "      <td>11989.390</td>\n",
       "      <td>5977.190</td>\n",
       "      <td>31489.530</td>\n",
       "      <td>105750.330</td>\n",
       "    </tr>\n",
       "  </tbody>\n",
       "</table>\n",
       "<p>5 rows × 22 columns</p>\n",
       "</div>"
      ],
      "text/plain": [
       "  Year Type  Year  Organization Group Code  \\\n",
       "0    Fiscal  2013                        1   \n",
       "1    Fiscal  2014                        2   \n",
       "2    Fiscal  2016                        2   \n",
       "3    Fiscal  2015                        2   \n",
       "4    Fiscal  2013                        2   \n",
       "\n",
       "                        Organization Group Department Code  \\\n",
       "0                        Public Protection             FIR   \n",
       "1  Public Works, Transportation & Commerce             MTA   \n",
       "2  Public Works, Transportation & Commerce             AIR   \n",
       "3  Public Works, Transportation & Commerce             MTA   \n",
       "4  Public Works, Transportation & Commerce             DPW   \n",
       "\n",
       "                      Department  Union Code  \\\n",
       "0            FIR Fire Department     798.000   \n",
       "1  MTA Municipal Transprtn Agncy     261.000   \n",
       "2         AIR Airport Commission     790.000   \n",
       "3  MTA Municipal Transprtn Agncy     253.000   \n",
       "4         DPW GSA - Public Works      21.000   \n",
       "\n",
       "                                               Union Job Family Code  \\\n",
       "0            Firefighters - Miscellaneous, Local 798            H000   \n",
       "1                                Laborers, Local 261            7500   \n",
       "2                   SEIU - Miscellaneous, Local 1021            1400   \n",
       "3  Transport Workers - Transit Operators, Local 2...            9100   \n",
       "4    Prof & Tech Engineers - Miscellaneous, Local 21            5200   \n",
       "\n",
       "                      Job Family         ...         Employee Identifier  \\\n",
       "0                  Fire Services         ...                       37216   \n",
       "1   Semi-Skilled & General Labor         ...                       24950   \n",
       "2  Clerical, Secretarial & Steno         ...                       27447   \n",
       "3                 Street Transit         ...                       42001   \n",
       "4       Professional Engineering         ...                       22142   \n",
       "\n",
       "    Salaries  Overtime  Other Salaries  Total Salary  Retirement  \\\n",
       "0 123841.280 76853.770       14922.050    215617.100   24574.980   \n",
       "1  61137.600  7341.040        9218.740     77697.380   14897.710   \n",
       "2  41192.820     0.000         390.000     41582.820    6996.410   \n",
       "3  66993.680 26633.830        4494.980     98122.490   21231.910   \n",
       "4  74260.800     0.000           0.000     74260.800   13522.950   \n",
       "\n",
       "   Health/Dental  Other Benefits  Total Benefits  Total Compensation  \n",
       "0      14920.130        3589.870       43084.980          258702.080  \n",
       "1      12516.700        6117.990       33532.400          111229.780  \n",
       "2      11308.960        3200.690       21506.060           63088.880  \n",
       "3      13417.450        7449.630       42098.990          140221.480  \n",
       "4      11989.390        5977.190       31489.530          105750.330  \n",
       "\n",
       "[5 rows x 22 columns]"
      ]
     },
     "execution_count": 3,
     "metadata": {},
     "output_type": "execute_result"
    }
   ],
   "source": [
    "df=pd.read_csv('employee-compensation.csv')\n",
    "df.head()"
   ]
  },
  {
   "cell_type": "markdown",
   "metadata": {},
   "source": [
    "## Preparing the Dataset"
   ]
  },
  {
   "cell_type": "code",
   "execution_count": 4,
   "metadata": {},
   "outputs": [
    {
     "name": "stdout",
     "output_type": "stream",
     "text": [
      "                          Year  Organization Group Code  Union Code  \\\n",
      "Year                     1.000                   -0.002      -0.000   \n",
      "Organization Group Code -0.002                    1.000      -0.007   \n",
      "Union Code              -0.000                   -0.007       1.000   \n",
      "Employee Identifier      0.001                   -0.007       0.003   \n",
      "Salaries                 0.036                   -0.209      -0.065   \n",
      "Overtime                 0.025                   -0.302       0.061   \n",
      "Other Salaries          -0.009                   -0.227       0.166   \n",
      "Total Salary             0.035                   -0.276      -0.019   \n",
      "Retirement               0.000                   -0.243      -0.081   \n",
      "Health/Dental            0.047                   -0.231      -0.085   \n",
      "Other Benefits           0.055                    0.024      -0.286   \n",
      "Total Benefits           0.027                   -0.202      -0.138   \n",
      "Total Compensation       0.034                   -0.263      -0.049   \n",
      "\n",
      "                         Employee Identifier  Salaries  Overtime  \\\n",
      "Year                                   0.001     0.036     0.025   \n",
      "Organization Group Code               -0.007    -0.209    -0.302   \n",
      "Union Code                             0.003    -0.065     0.061   \n",
      "Employee Identifier                    1.000    -0.000     0.004   \n",
      "Salaries                              -0.000     1.000     0.270   \n",
      "Overtime                               0.004     0.270     1.000   \n",
      "Other Salaries                         0.006     0.327     0.362   \n",
      "Total Salary                           0.001     0.961     0.496   \n",
      "Retirement                             0.003     0.948     0.314   \n",
      "Health/Dental                          0.000     0.777     0.310   \n",
      "Other Benefits                        -0.003     0.712     0.061   \n",
      "Total Benefits                         0.001     0.939     0.286   \n",
      "Total Compensation                     0.001     0.973     0.453   \n",
      "\n",
      "                         Other Salaries  Total Salary  Retirement  \\\n",
      "Year                             -0.009         0.035       0.000   \n",
      "Organization Group Code          -0.227        -0.276      -0.243   \n",
      "Union Code                        0.166        -0.019      -0.081   \n",
      "Employee Identifier               0.006         0.001       0.003   \n",
      "Salaries                          0.327         0.961       0.948   \n",
      "Overtime                          0.362         0.496       0.314   \n",
      "Other Salaries                    1.000         0.499       0.348   \n",
      "Total Salary                      0.499         1.000       0.929   \n",
      "Retirement                        0.348         0.929       1.000   \n",
      "Health/Dental                     0.216         0.763       0.788   \n",
      "Other Benefits                    0.051         0.631       0.672   \n",
      "Total Benefits                    0.275         0.905       0.962   \n",
      "Total Compensation                0.453         0.994       0.954   \n",
      "\n",
      "                         Health/Dental  Other Benefits  Total Benefits  \\\n",
      "Year                             0.047           0.055           0.027   \n",
      "Organization Group Code         -0.231           0.024          -0.202   \n",
      "Union Code                      -0.085          -0.286          -0.138   \n",
      "Employee Identifier              0.000          -0.003           0.001   \n",
      "Salaries                         0.777           0.712           0.939   \n",
      "Overtime                         0.310           0.061           0.286   \n",
      "Other Salaries                   0.216           0.051           0.275   \n",
      "Total Salary                     0.763           0.631           0.905   \n",
      "Retirement                       0.788           0.672           0.962   \n",
      "Health/Dental                    1.000           0.607           0.889   \n",
      "Other Benefits                   0.607           1.000           0.797   \n",
      "Total Benefits                   0.889           0.797           1.000   \n",
      "Total Compensation               0.808           0.683           0.944   \n",
      "\n",
      "                         Total Compensation  \n",
      "Year                                  0.034  \n",
      "Organization Group Code              -0.263  \n",
      "Union Code                           -0.049  \n",
      "Employee Identifier                   0.001  \n",
      "Salaries                              0.973  \n",
      "Overtime                              0.453  \n",
      "Other Salaries                        0.453  \n",
      "Total Salary                          0.994  \n",
      "Retirement                            0.954  \n",
      "Health/Dental                         0.808  \n",
      "Other Benefits                        0.683  \n",
      "Total Benefits                        0.944  \n",
      "Total Compensation                    1.000  \n"
     ]
    }
   ],
   "source": [
    "corr_matrix = df.corr()\n",
    "print(corr_matrix)"
   ]
  },
  {
   "cell_type": "code",
   "execution_count": 48,
   "metadata": {},
   "outputs": [
    {
     "name": "stdout",
     "output_type": "stream",
     "text": [
      "                    Salaries  Overtime  Health/Dental  Total Benefits  \\\n",
      "Salaries               1.000     0.270          0.777           0.939   \n",
      "Overtime               0.270     1.000          0.310           0.286   \n",
      "Health/Dental          0.777     0.310          1.000           0.889   \n",
      "Total Benefits         0.939     0.286          0.889           1.000   \n",
      "Total Compensation     0.973     0.453          0.808           0.944   \n",
      "\n",
      "                    Total Compensation  \n",
      "Salaries                         0.973  \n",
      "Overtime                         0.453  \n",
      "Health/Dental                    0.808  \n",
      "Total Benefits                   0.944  \n",
      "Total Compensation               1.000  \n"
     ]
    }
   ],
   "source": [
    "data=df.loc[:, ['Salaries', 'Overtime', 'Health/Dental', 'Total Benefits', 'Total Compensation']]\n",
    "corr_matrix_data = data.corr()\n",
    "print(corr_matrix_data)"
   ]
  },
  {
   "cell_type": "code",
   "execution_count": 49,
   "metadata": {},
   "outputs": [
    {
     "name": "stdout",
     "output_type": "stream",
     "text": [
      "                    Salaries  Health/Dental  Total Benefits  \\\n",
      "Salaries               1.000          0.777           0.939   \n",
      "Health/Dental          0.777          1.000           0.889   \n",
      "Total Benefits         0.939          0.889           1.000   \n",
      "Total Compensation     0.973          0.808           0.944   \n",
      "\n",
      "                    Total Compensation  \n",
      "Salaries                         0.973  \n",
      "Health/Dental                    0.808  \n",
      "Total Benefits                   0.944  \n",
      "Total Compensation               1.000  \n"
     ]
    }
   ],
   "source": [
    "data=df.loc[:, ['Salaries','Health/Dental','Total Benefits','Total Compensation']]\n",
    "corr_matrix_data = data.corr()\n",
    "print(corr_matrix_data)"
   ]
  },
  {
   "cell_type": "code",
   "execution_count": 51,
   "metadata": {},
   "outputs": [
    {
     "data": {
      "image/png": "[encoded data removed]",
      "text/plain": [
       "<Figure size 432x288 with 4 Axes>"
      ]
     },
     "metadata": {},
     "output_type": "display_data"
    }
   ],
   "source": [
    "f, (ax1, ax2, ax3, ax4) = plt.subplots(4, sharex=False, sharey=False)\n",
    "\n",
    "plt.plot(figsize=(30,30))\n",
    "\n",
    "ax1.hist(data['Salaries'])\n",
    "ax1.set_title('Salaries')\n",
    "\n",
    "ax2.hist(data['Health/Dental'])\n",
    "ax2.set_title('Health/Dental')\n",
    "\n",
    "ax3.hist(data['Total Benefits'])\n",
    "ax3.set_title('Total Benefits')\n",
    "\n",
    "ax4.hist(data['Total Compensation'])\n",
    "ax4.set_title('Total Compensation')\n",
    "\n",
    "f.tight_layout()"
   ]
  },
  {
   "cell_type": "code",
   "execution_count": 52,
   "metadata": {},
   "outputs": [],
   "source": [
    "x=data.loc[:,['Salaries','Health/Dental','Total Benefits']]\n",
    "y=data.loc[:,['Total Compensation']]\n",
    "\n",
    "from sklearn.model_selection import train_test_split\n",
    "x_train, x_test, y_train, y_test = train_test_split(x, y, test_size=0.3, random_state=111)"
   ]
  },
  {
   "cell_type": "markdown",
   "metadata": {},
   "source": [
    "## OLS Regression"
   ]
  },
  {
   "cell_type": "code",
   "execution_count": 53,
   "metadata": {},
   "outputs": [
    {
     "name": "stdout",
     "output_type": "stream",
     "text": [
      "Train_Regression: 0.9547473218555901\n",
      "Test_Regression: 0.9548723595261789\n"
     ]
    }
   ],
   "source": [
    "from sklearn import linear_model\n",
    "\n",
    "lm=linear_model.LinearRegression()\n",
    "lm.fit(x_train, y_train)\n",
    "\n",
    "print('Train_Regression:', lm.score(x_train, y_train))\n",
    "print('Test_Regression:', lm.score(x_test, y_test))"
   ]
  },
  {
   "cell_type": "code",
   "execution_count": 54,
   "metadata": {},
   "outputs": [],
   "source": [
    "#import statsmodels.formula.api as smf\n",
    "#data=x_train.join(y_train)\n",
    "#data1='Total Compensation ~ Total Salaries+Health/Dental+Total Benefits'\n",
    "#lf= data1\n",
    "#lm=smf.ols(formula=lf,data=data).fit()\n",
    "#print(lm.summary())\n",
    "#print('Coefficients:\\n', lf.params)\n",
    "#print('\\nP-values:\\n', lf.pvalues)\n",
    "#print('\\nR-squared:\\n', lf.rsquared)\n",
    "#lf.conf_int()"
   ]
  },
  {
   "cell_type": "markdown",
   "metadata": {},
   "source": [
    "## KNN Regression Model"
   ]
  },
  {
   "cell_type": "code",
   "execution_count": 36,
   "metadata": {},
   "outputs": [
    {
     "name": "stdout",
     "output_type": "stream",
     "text": [
      "Train: 0.9931564551483912\n",
      "Test: 0.9610668616736654\n"
     ]
    }
   ],
   "source": [
    "from sklearn import neighbors\n",
    "knn_1 = neighbors.KNeighborsRegressor(n_neighbors=1)\n",
    "knn_1.fit(x_train, y_train)\n",
    "print('Train:', knn_1.score(x_train, y_train))\n",
    "print('Test:', knn_1.score(x_test, y_test))"
   ]
  },
  {
   "cell_type": "code",
   "execution_count": 37,
   "metadata": {},
   "outputs": [
    {
     "name": "stdout",
     "output_type": "stream",
     "text": [
      "Train: 0.9848567628548438\n",
      "Test: 0.9773316257916971\n"
     ]
    }
   ],
   "source": [
    "knn_5 = neighbors.KNeighborsRegressor(n_neighbors=5)\n",
    "knn_5.fit(x_train, y_train)\n",
    "print('Train:', knn_5.score(x_train, y_train))\n",
    "print('Test:', knn_5.score(x_test, y_test))"
   ]
  },
  {
   "cell_type": "code",
   "execution_count": 38,
   "metadata": {},
   "outputs": [
    {
     "name": "stdout",
     "output_type": "stream",
     "text": [
      "Train: 0.9989742013960404\n",
      "Test: 0.9774516721292563\n"
     ]
    }
   ],
   "source": [
    "knn_5w = neighbors.KNeighborsRegressor(n_neighbors=5, weights='distance')\n",
    "knn_5w.fit(x_train, y_train)\n",
    "print('Train:', knn_5w.score(x_train, y_train))\n",
    "print('Test:', knn_5w.score(x_test, y_test))"
   ]
  },
  {
   "cell_type": "markdown",
   "metadata": {},
   "source": [
    "Above are KNN Regressions with K as 1, 5, and dist-weighted 5. All test outcomes are similar to the training sets, suggesting the model does not appear to overfit. Scores of KNN also slightly higher than OLS Regression. "
   ]
  }
 ],
 "metadata": {
  "kernelspec": {
   "display_name": "Python 3",
   "language": "python",
   "name": "python3"
  },
  "language_info": {
   "codemirror_mode": {
    "name": "ipython",
    "version": 3
   },
   "file_extension": ".py",
   "mimetype": "text/x-python",
   "name": "python",
   "nbconvert_exporter": "python",
   "pygments_lexer": "ipython3",
   "version": "3.6.5"
  }
 },
 "nbformat": 4,
 "nbformat_minor": 2
}
