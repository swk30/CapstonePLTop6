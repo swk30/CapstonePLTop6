{
 "cells": [
  {
   "cell_type": "code",
   "execution_count": 16,
   "metadata": {},
   "outputs": [],
   "source": [
    "import pandas as pd\n",
    "import numpy as np\n",
    "import matplotlib.pyplot as plt\n",
    "import seaborn as sns\n",
    "import scipy.stats as stats\n",
    "%matplotlib inline\n",
    "from scipy.stats import ttest_ind, f_oneway, ttest_rel, shapiro\n",
    "from scipy.stats import kruskal, wilcoxon\n",
    "from statsmodels.stats.multicomp import pairwise_tukeyhsd\n",
    "\n",
    "data = ('ESSdata_Thinkful.csv')\n",
    "df = pd.read_csv(data,delimiter=\",\",header=0)"
   ]
  },
  {
   "cell_type": "code",
   "execution_count": 17,
   "metadata": {},
   "outputs": [
    {
     "data": {
      "text/plain": [
       "cntry      0\n",
       "idno       0\n",
       "year       0\n",
       "tvtot      0\n",
       "ppltrst    0\n",
       "pplfair    0\n",
       "pplhlp     0\n",
       "happy      0\n",
       "sclmeet    0\n",
       "sclact     0\n",
       "gndr       0\n",
       "agea       0\n",
       "partner    0\n",
       "dtype: int64"
      ]
     },
     "execution_count": 17,
     "metadata": {},
     "output_type": "execute_result"
    }
   ],
   "source": [
    "data = df.dropna()\n",
    "data = data.fillna(data.median())\n",
    "data.isnull().sum()"
   ]
  },
  {
   "cell_type": "code",
   "execution_count": 23,
   "metadata": {},
   "outputs": [],
   "source": [
    "data_2012 = data[data['year'] == 6]\n",
    "data_2014 = data[data['year'] == 7]"
   ]
  },
  {
   "cell_type": "code",
   "execution_count": 96,
   "metadata": {},
   "outputs": [
    {
     "data": {
      "text/html": [
       "<div>\n",
       "<style scoped>\n",
       "    .dataframe tbody tr th:only-of-type {\n",
       "        vertical-align: middle;\n",
       "    }\n",
       "\n",
       "    .dataframe tbody tr th {\n",
       "        vertical-align: top;\n",
       "    }\n",
       "\n",
       "    .dataframe thead th {\n",
       "        text-align: right;\n",
       "    }\n",
       "</style>\n",
       "<table border=\"1\" class=\"dataframe\">\n",
       "  <thead>\n",
       "    <tr style=\"text-align: right;\">\n",
       "      <th></th>\n",
       "      <th>cntry</th>\n",
       "      <th>idno</th>\n",
       "      <th>year</th>\n",
       "      <th>tvtot</th>\n",
       "      <th>ppltrst</th>\n",
       "      <th>pplfair</th>\n",
       "      <th>pplhlp</th>\n",
       "      <th>happy</th>\n",
       "      <th>sclmeet</th>\n",
       "      <th>sclact</th>\n",
       "      <th>gndr</th>\n",
       "      <th>agea</th>\n",
       "      <th>partner</th>\n",
       "    </tr>\n",
       "  </thead>\n",
       "  <tbody>\n",
       "    <tr>\n",
       "      <th>0</th>\n",
       "      <td>CH</td>\n",
       "      <td>5.0</td>\n",
       "      <td>6</td>\n",
       "      <td>3.0</td>\n",
       "      <td>3.0</td>\n",
       "      <td>10.0</td>\n",
       "      <td>5.0</td>\n",
       "      <td>8.0</td>\n",
       "      <td>5.0</td>\n",
       "      <td>4.0</td>\n",
       "      <td>2.0</td>\n",
       "      <td>60.0</td>\n",
       "      <td>1.0</td>\n",
       "    </tr>\n",
       "    <tr>\n",
       "      <th>1</th>\n",
       "      <td>CH</td>\n",
       "      <td>25.0</td>\n",
       "      <td>6</td>\n",
       "      <td>6.0</td>\n",
       "      <td>5.0</td>\n",
       "      <td>7.0</td>\n",
       "      <td>5.0</td>\n",
       "      <td>9.0</td>\n",
       "      <td>3.0</td>\n",
       "      <td>2.0</td>\n",
       "      <td>2.0</td>\n",
       "      <td>59.0</td>\n",
       "      <td>1.0</td>\n",
       "    </tr>\n",
       "    <tr>\n",
       "      <th>2</th>\n",
       "      <td>CH</td>\n",
       "      <td>26.0</td>\n",
       "      <td>6</td>\n",
       "      <td>1.0</td>\n",
       "      <td>8.0</td>\n",
       "      <td>8.0</td>\n",
       "      <td>8.0</td>\n",
       "      <td>7.0</td>\n",
       "      <td>6.0</td>\n",
       "      <td>3.0</td>\n",
       "      <td>1.0</td>\n",
       "      <td>24.0</td>\n",
       "      <td>2.0</td>\n",
       "    </tr>\n",
       "    <tr>\n",
       "      <th>3</th>\n",
       "      <td>CH</td>\n",
       "      <td>28.0</td>\n",
       "      <td>6</td>\n",
       "      <td>4.0</td>\n",
       "      <td>6.0</td>\n",
       "      <td>6.0</td>\n",
       "      <td>7.0</td>\n",
       "      <td>10.0</td>\n",
       "      <td>6.0</td>\n",
       "      <td>2.0</td>\n",
       "      <td>2.0</td>\n",
       "      <td>64.0</td>\n",
       "      <td>1.0</td>\n",
       "    </tr>\n",
       "    <tr>\n",
       "      <th>4</th>\n",
       "      <td>CH</td>\n",
       "      <td>29.0</td>\n",
       "      <td>6</td>\n",
       "      <td>5.0</td>\n",
       "      <td>6.0</td>\n",
       "      <td>7.0</td>\n",
       "      <td>5.0</td>\n",
       "      <td>8.0</td>\n",
       "      <td>7.0</td>\n",
       "      <td>2.0</td>\n",
       "      <td>2.0</td>\n",
       "      <td>55.0</td>\n",
       "      <td>1.0</td>\n",
       "    </tr>\n",
       "  </tbody>\n",
       "</table>\n",
       "</div>"
      ],
      "text/plain": [
       "  cntry  idno  year  tvtot  ppltrst  pplfair  pplhlp  happy  sclmeet  sclact  \\\n",
       "0    CH   5.0     6    3.0      3.0     10.0     5.0    8.0      5.0     4.0   \n",
       "1    CH  25.0     6    6.0      5.0      7.0     5.0    9.0      3.0     2.0   \n",
       "2    CH  26.0     6    1.0      8.0      8.0     8.0    7.0      6.0     3.0   \n",
       "3    CH  28.0     6    4.0      6.0      6.0     7.0   10.0      6.0     2.0   \n",
       "4    CH  29.0     6    5.0      6.0      7.0     5.0    8.0      7.0     2.0   \n",
       "\n",
       "   gndr  agea  partner  \n",
       "0   2.0  60.0      1.0  \n",
       "1   2.0  59.0      1.0  \n",
       "2   1.0  24.0      2.0  \n",
       "3   2.0  64.0      1.0  \n",
       "4   2.0  55.0      1.0  "
      ]
     },
     "execution_count": 96,
     "metadata": {},
     "output_type": "execute_result"
    }
   ],
   "source": [
    "data.head()"
   ]
  },
  {
   "cell_type": "markdown",
   "metadata": {},
   "source": [
    "## 1. Did people become less trusting from 2012 to 2014? Compute results for each country in the sample."
   ]
  },
  {
   "cell_type": "code",
   "execution_count": 119,
   "metadata": {},
   "outputs": [
    {
     "data": {
      "text/plain": [
       "Text(0.07,0.5,'Trust Level')"
      ]
     },
     "execution_count": 119,
     "metadata": {},
     "output_type": "execute_result"
    },
    {
     "data": {
      "image/png": "[encoded data removed]",
      "text/plain": [
       "<Figure size 1080x360 with 2 Axes>"
      ]
     },
     "metadata": {},
     "output_type": "display_data"
    }
   ],
   "source": [
    "fig, axes = plt.subplots(nrows=1, ncols=2, sharex=True, sharey=True, figsize=(15,5))\n",
    "\n",
    "data.hist(by='year', column='ppltrst', ax=axes, orientation='horizontal')\n",
    "\n",
    "plt.suptitle('Trust Levels', x=0.5, y=1.05, ha='center', fontsize='x-large')\n",
    "fig.text(0.5, 0.04, 'Number of People', ha='center', fontsize='large')\n",
    "fig.text(0.07, 0.5, 'Trust Level', va='center', rotation='vertical', fontsize='large')"
   ]
  },
  {
   "cell_type": "code",
   "execution_count": 121,
   "metadata": {},
   "outputs": [
    {
     "name": "stdout",
     "output_type": "stream",
     "text": [
      "KstestResult(statistic=0.9264024104247022, pvalue=0.0)\n",
      "KstestResult(statistic=0.9289181703089356, pvalue=0.0)\n"
     ]
    }
   ],
   "source": [
    "#ks test\n",
    "from scipy.stats import kstest\n",
    "print(kstest(data_2012['ppltrst'], 'norm'))\n",
    "print(kstest(data_2014['ppltrst'], 'norm'))"
   ]
  },
  {
   "cell_type": "code",
   "execution_count": 122,
   "metadata": {},
   "outputs": [
    {
     "data": {
      "text/plain": [
       "MannwhitneyuResult(statistic=8260446.0, pvalue=0.364910173807647)"
      ]
     },
     "execution_count": 122,
     "metadata": {},
     "output_type": "execute_result"
    }
   ],
   "source": [
    "#Mann Whitney U test\n",
    "stats.mannwhitneyu(data_2012['ppltrst'],data_2014['ppltrst'])"
   ]
  },
  {
   "cell_type": "code",
   "execution_count": 27,
   "metadata": {},
   "outputs": [
    {
     "name": "stdout",
     "output_type": "stream",
     "text": [
      "CH\n",
      "MannwhitneyuResult(statistic=267361.0, pvalue=0.28548480842716395)\n",
      "CZ\n",
      "MannwhitneyuResult(statistic=182068.0, pvalue=0.49770792998106145)\n",
      "DE\n",
      "MannwhitneyuResult(statistic=84.0, pvalue=0.3741417871944901)\n",
      "ES\n",
      "MannwhitneyuResult(statistic=617480.0, pvalue=0.006194821052719307)\n",
      "NO\n",
      "MannwhitneyuResult(statistic=248611.0, pvalue=0.3246607781543741)\n",
      "SE\n",
      "MannwhitneyuResult(statistic=350787.5, pvalue=0.017080947275388083)\n"
     ]
    }
   ],
   "source": [
    "for each in np.unique(data['cntry']):\n",
    "    print(each)\n",
    "    print(stats.mannwhitneyu(data_2012[data_2012['cntry']==each]['ppltrst'],\n",
    "                          data_2014[data_2014['cntry']==each]['ppltrst']))"
   ]
  },
  {
   "cell_type": "markdown",
   "metadata": {},
   "source": [
    "Non-normal distribution lead me to pick a non-parametric test (Mann Whitney U), which indicates that, excluding Spain and Sweden, were below the p-value < 0.05 threshold. "
   ]
  },
  {
   "cell_type": "markdown",
   "metadata": {},
   "source": [
    "## 2. Did people become happier from 2012 to 2014? Compute results for each country in the sample."
   ]
  },
  {
   "cell_type": "code",
   "execution_count": 120,
   "metadata": {},
   "outputs": [
    {
     "data": {
      "text/plain": [
       "Text(0.07,0.5,'Happiness')"
      ]
     },
     "execution_count": 120,
     "metadata": {},
     "output_type": "execute_result"
    },
    {
     "data": {
      "image/png": "[encoded data removed]",
      "text/plain": [
       "<Figure size 1080x360 with 2 Axes>"
      ]
     },
     "metadata": {},
     "output_type": "display_data"
    }
   ],
   "source": [
    "fig, axes = plt.subplots(nrows=1, ncols=2, sharex=True, sharey=True, figsize=(15,5))\n",
    "\n",
    "data.hist(by='year', column='happy', ax=axes, xrot=1, orientation='horizontal')\n",
    "\n",
    "plt.suptitle('Happiness between 2012 and 2014', x=0.5, y=1.05, ha='center', fontsize='xx-large')\n",
    "fig.text(0.5, 0.04, 'Number of People', ha='center')\n",
    "fig.text(0.07, 0.5, 'Happiness', va='center', rotation='vertical')"
   ]
  },
  {
   "cell_type": "code",
   "execution_count": 123,
   "metadata": {},
   "outputs": [
    {
     "name": "stdout",
     "output_type": "stream",
     "text": [
      "KstestResult(statistic=0.9846486281290184, pvalue=0.0)\n",
      "KstestResult(statistic=0.9885912207122365, pvalue=0.0)\n"
     ]
    },
    {
     "data": {
      "text/plain": [
       "KruskalResult(statistic=3.725441202182227, pvalue=0.05358946830655459)"
      ]
     },
     "execution_count": 123,
     "metadata": {},
     "output_type": "execute_result"
    }
   ],
   "source": [
    "#Kruskal, Ks\n",
    "print(kstest(data_2012['happy'], 'norm'))\n",
    "print(kstest(data_2014['happy'], 'norm'))\n",
    "stats.kruskal(data_2012['happy'],data_2014['happy'])"
   ]
  },
  {
   "cell_type": "markdown",
   "metadata": {},
   "source": [
    "Kruskal-Wallis test indicates no significant different in happiness between 2012 and 2014. "
   ]
  },
  {
   "cell_type": "code",
   "execution_count": 124,
   "metadata": {},
   "outputs": [
    {
     "data": {
      "text/plain": [
       "MannwhitneyuResult(statistic=8096343.0, pvalue=0.02679503248642277)"
      ]
     },
     "execution_count": 124,
     "metadata": {},
     "output_type": "execute_result"
    }
   ],
   "source": [
    "#Mann Whitney\n",
    "stats.mannwhitneyu(data_2012['happy'],data_2014['happy'])"
   ]
  },
  {
   "cell_type": "code",
   "execution_count": 36,
   "metadata": {},
   "outputs": [
    {
     "name": "stdout",
     "output_type": "stream",
     "text": [
      "CH\n",
      "MannwhitneyuResult(statistic=265131.5, pvalue=0.19495027197081582)\n",
      "CZ\n",
      "MannwhitneyuResult(statistic=176796.0, pvalue=0.18724347670459124)\n",
      "DE\n",
      "MannwhitneyuResult(statistic=73.5, pvalue=0.19313536018324134)\n",
      "ES\n",
      "MannwhitneyuResult(statistic=629830.0, pvalue=0.04263522765394516)\n",
      "NO\n",
      "MannwhitneyuResult(statistic=220453.5, pvalue=1.2346345897635287e-05)\n",
      "SE\n",
      "MannwhitneyuResult(statistic=369192.0, pvalue=0.37586498218551584)\n"
     ]
    }
   ],
   "source": [
    "for each in np.unique(data['cntry']):\n",
    "    print(each)\n",
    "    print(stats.mannwhitneyu(data_2012[data_2012['cntry']==each]['happy'],\n",
    "                          data_2014[data_2014['cntry']==each]['happy']))"
   ]
  },
  {
   "cell_type": "markdown",
   "metadata": {},
   "source": [
    "Excluding Spain and Norway, the other four countries showed no significant difference in happiness between 2012 and 2014. "
   ]
  },
  {
   "cell_type": "markdown",
   "metadata": {},
   "source": [
    "## 3. Who reported watching more TV in 2012, men or women?"
   ]
  },
  {
   "cell_type": "code",
   "execution_count": 64,
   "metadata": {},
   "outputs": [
    {
     "data": {
      "text/plain": [
       "1.0    2053\n",
       "2.0    2018\n",
       "Name: gndr, dtype: int64"
      ]
     },
     "execution_count": 64,
     "metadata": {},
     "output_type": "execute_result"
    }
   ],
   "source": [
    "data_2012['gndr'].value_counts()"
   ]
  },
  {
   "cell_type": "code",
   "execution_count": 125,
   "metadata": {},
   "outputs": [
    {
     "name": "stdout",
     "output_type": "stream",
     "text": [
      "\t\tDistribution of Total TV Watching in 2012 for Men and Women\n"
     ]
    },
    {
     "data": {
      "image/png": "[encoded data removed]",
      "text/plain": [
       "<Figure size 432x216 with 2 Axes>"
      ]
     },
     "metadata": {},
     "output_type": "display_data"
    },
    {
     "name": "stdout",
     "output_type": "stream",
     "text": [
      "Males (1.0): (0.9443334937095642, 3.718612884828085e-27)\n",
      "Females (2.0): (0.9407297372817993, 1.0867231118970029e-27)\n"
     ]
    }
   ],
   "source": [
    "#shapiro-wilk test\n",
    "Gender_2012 = sns.FacetGrid(data_2012, col='gndr', dropna=True, sharey=True)\n",
    "Gender_2012 = Gender_2012.map(plt.hist, 'tvtot', alpha=0.8, color='teal', bins=8)\n",
    "# Adding a title\n",
    "print('\\t\\tDistribution of Total TV Watching in 2012 for Men and Women')\n",
    "plt.show()\n",
    "\n",
    "print('Males (1.0):', shapiro(data_2012[data_2012.gndr ==1].tvtot))\n",
    "print('Females (2.0):', shapiro(data_2012[data_2012.gndr ==2].tvtot))"
   ]
  },
  {
   "cell_type": "code",
   "execution_count": 139,
   "metadata": {},
   "outputs": [
    {
     "name": "stdout",
     "output_type": "stream",
     "text": [
      "Wilcoxon Test: WilcoxonResult(statistic=713031.0, pvalue=0.5367584843203085)\n"
     ]
    }
   ],
   "source": [
    "print('Wilcoxon Test:', wilcoxon(data_2012[data_2012.gndr == 1].tvtot.dropna()[:2018], \n",
    "                                 y=data_2012[data_2012.gndr == 2].tvtot.dropna()))"
   ]
  },
  {
   "cell_type": "markdown",
   "metadata": {},
   "source": [
    "The Wilcoxon Test shows no significant different between genders and TV views in 2012. "
   ]
  },
  {
   "cell_type": "markdown",
   "metadata": {},
   "source": [
    "## 4. Who was more likely to believe people were fair in 2012, people living with a partner or people living alone?"
   ]
  },
  {
   "cell_type": "code",
   "execution_count": 81,
   "metadata": {},
   "outputs": [
    {
     "data": {
      "image/png": "[encoded data removed]",
      "text/plain": [
       "<Figure size 576x576 with 2 Axes>"
      ]
     },
     "metadata": {},
     "output_type": "display_data"
    }
   ],
   "source": [
    "data_partner = data['pplfair'][(data['partner'] == 1.0) & (data['year'] == 6)]\n",
    "data_single = data['pplfair'][(data['partner'] == 2.0) & (data['year'] == 6)]\n",
    "\n",
    "fig, ax1 = plt.subplots(1, 2, figsize=(8, 8))\n",
    "\n",
    "ax1[0].hist(data_partner)\n",
    "ax1[1].hist(data_single)\n",
    "\n",
    "fig.text(0.35, 0.95, '2012 Perceived Fairness', fontsize='xx-large')\n",
    "ax1[0].set_title('Coupled')\n",
    "ax1[1].set_title('Single')\n",
    "    \n",
    "plt.show()"
   ]
  },
  {
   "cell_type": "code",
   "execution_count": 134,
   "metadata": {},
   "outputs": [
    {
     "name": "stdout",
     "output_type": "stream",
     "text": [
      "The mean perceived, partner: 6.0743509047993705\n",
      "The mean perceived, single: 5.86592544146501\n",
      "Ttest_indResult(statistic=3.0430439318464235, pvalue=0.002356936676939248)\n"
     ]
    }
   ],
   "source": [
    "#t-test\n",
    "print('The mean perceived, partner: ' + str(data_partner.mean()))\n",
    "print('The mean perceived, single: ' + str(data_single.mean()))  \n",
    "print(stats.ttest_ind(data_partner, data_single))"
   ]
  },
  {
   "cell_type": "markdown",
   "metadata": {},
   "source": [
    "The independent t-test (statistically meaningful) indicates those with a significant other were more likely to judge people as fair when compared to their single counterparts. "
   ]
  },
  {
   "cell_type": "markdown",
   "metadata": {},
   "source": [
    "## 5. Pick three or four of the countries in the sample and compare how often people met socially in 2014. Are there differences, and if so, which countries stand out?"
   ]
  },
  {
   "cell_type": "code",
   "execution_count": 91,
   "metadata": {},
   "outputs": [],
   "source": [
    "data_cntry = data['cntry'].unique().tolist()"
   ]
  },
  {
   "cell_type": "code",
   "execution_count": 94,
   "metadata": {},
   "outputs": [
    {
     "name": "stdout",
     "output_type": "stream",
     "text": [
      "['CZ', 'DE', 'ES']\n"
     ]
    }
   ],
   "source": [
    "social_2014 = data_cntry[1:4]\n",
    "print(social_2014)"
   ]
  },
  {
   "cell_type": "code",
   "execution_count": 101,
   "metadata": {},
   "outputs": [],
   "source": [
    "CZ_social = data_2014['sclmeet'][(data_2014['cntry']=='CZ')]\n",
    "DE_social = data_2014['sclmeet'][(data_2014['cntry']=='DE')]\n",
    "ES_social = data_2014['sclmeet'][(data_2014['cntry']=='ES')]"
   ]
  },
  {
   "cell_type": "code",
   "execution_count": 103,
   "metadata": {},
   "outputs": [
    {
     "data": {
      "image/png": "[encoded data removed]",
      "text/plain": [
       "<Figure size 720x288 with 3 Axes>"
      ]
     },
     "metadata": {},
     "output_type": "display_data"
    }
   ],
   "source": [
    "fig, ax1 = plt.subplots(1, 3, figsize=(10, 4))\n",
    "\n",
    "ax1[0].hist(CZ_social)\n",
    "ax1[1].hist(DE_social)\n",
    "ax1[2].hist(ES_social)\n",
    "\n",
    "fig.text(0.4, 1, 'Social Meetings 2014', fontsize='xx-large')\n",
    "ax1[0].set_title('Czech Rep.')\n",
    "ax1[1].set_title('Germany')\n",
    "ax1[2].set_title('Spain')\n",
    "    \n",
    "plt.tight_layout()\n",
    "plt.show()"
   ]
  },
  {
   "cell_type": "code",
   "execution_count": 109,
   "metadata": {},
   "outputs": [
    {
     "name": "stdout",
     "output_type": "stream",
     "text": [
      "F score: 56.89670103430699\n",
      "P-value: 1.1476834261467194e-24\n",
      "Czech_soc mean: 4.4950495049504955\n",
      "German_soc mean: 4.428571428571429\n",
      "Spain_soc mean: 5.263668430335097\n"
     ]
    }
   ],
   "source": [
    "#ANOVA one-way\n",
    "F, p = stats.f_oneway(CZ_social, DE_social, ES_social)\n",
    "\n",
    "print('F score: ' + str(F))\n",
    "print('P-value: ' + str(p))\n",
    "print('Czech_soc mean: ' + str(CZ_social.mean()))\n",
    "print('German_soc mean: ' + str(DE_social.mean()))\n",
    "print('Spain_soc mean: ' + str(ES_social.mean()))"
   ]
  },
  {
   "cell_type": "code",
   "execution_count": 110,
   "metadata": {},
   "outputs": [
    {
     "name": "stdout",
     "output_type": "stream",
     "text": [
      "CZ and DE: Ttest_indResult(statistic=0.16846066305094798, pvalue=0.8662760053993819)\n",
      "CZ and ES: Ttest_indResult(statistic=-10.538036641317998, pvalue=3.262659263756715e-25)\n",
      "DE and ES: Ttest_indResult(statistic=-2.168865565712128, pvalue=0.030298013218196748)\n"
     ]
    }
   ],
   "source": [
    "print('CZ and DE: ' + str(stats.ttest_ind(CZ_social, DE_social)))\n",
    "print('CZ and ES: ' + str(stats.ttest_ind(CZ_social, ES_social)))\n",
    "print('DE and ES: ' + str(stats.ttest_ind(DE_social, ES_social)))"
   ]
  },
  {
   "cell_type": "markdown",
   "metadata": {},
   "source": [
    "The ANOVA one-way test indicates statistical significance/significant difference amongst the three countries. T-tests show that, apart from the CZ-DE pairing, the other two pairs are significantly different. "
   ]
  },
  {
   "cell_type": "markdown",
   "metadata": {},
   "source": [
    "## 6. Pick three or four of the countries in the sample and compare how often people took part in social activities, relative to others their age, in 2014. Are there differences, and if so, which countries stand out?"
   ]
  },
  {
   "cell_type": "code",
   "execution_count": 112,
   "metadata": {},
   "outputs": [
    {
     "name": "stdout",
     "output_type": "stream",
     "text": [
      "['ES', 'NO', 'SE']\n"
     ]
    }
   ],
   "source": [
    "socialact_2014 = data_cntry[3:6]\n",
    "print(socialact_2014)"
   ]
  },
  {
   "cell_type": "code",
   "execution_count": 115,
   "metadata": {},
   "outputs": [],
   "source": [
    "NO_socialact = data_2014['sclact'][(data_2014['cntry']=='NO')]\n",
    "SE_socialact = data_2014['sclact'][(data_2014['cntry']=='SE')]\n",
    "ES_socialact = data_2014['sclact'][(data_2014['cntry']=='ES')]"
   ]
  },
  {
   "cell_type": "code",
   "execution_count": 116,
   "metadata": {},
   "outputs": [
    {
     "data": {
      "image/png": "[encoded data removed]",
      "text/plain": [
       "<Figure size 720x288 with 3 Axes>"
      ]
     },
     "metadata": {},
     "output_type": "display_data"
    }
   ],
   "source": [
    "fig, ax1 = plt.subplots(1, 3, figsize=(10, 4))\n",
    "\n",
    "ax1[0].hist(NO_socialact)\n",
    "ax1[1].hist(SE_socialact)\n",
    "ax1[2].hist(ES_socialact)\n",
    "\n",
    "fig.text(0.4, 1, 'Social Activities 2014', fontsize='xx-large')\n",
    "ax1[0].set_title('Norway')\n",
    "ax1[1].set_title('Sweden')\n",
    "ax1[2].set_title('Spain')\n",
    "    \n",
    "plt.tight_layout()\n",
    "plt.show()"
   ]
  },
  {
   "cell_type": "code",
   "execution_count": 117,
   "metadata": {},
   "outputs": [
    {
     "name": "stdout",
     "output_type": "stream",
     "text": [
      "F score: 23.994028014859197\n",
      "P-value: 4.685034666506116e-11\n",
      "Czech_soc mean: 2.860955056179775\n",
      "German_soc mean: 2.878892733564014\n",
      "Spain_soc mean: 2.631393298059965\n"
     ]
    }
   ],
   "source": [
    "#ANOVA one-way\n",
    "F, p = stats.f_oneway(NO_socialact, SE_socialact, ES_socialact)\n",
    "\n",
    "print('F score: ' + str(F))\n",
    "print('P-value: ' + str(p))\n",
    "print('Czech_soc mean: ' + str(NO_socialact.mean()))\n",
    "print('German_soc mean: ' + str(SE_socialact.mean()))\n",
    "print('Spain_soc mean: ' + str(ES_socialact.mean()))"
   ]
  },
  {
   "cell_type": "code",
   "execution_count": 118,
   "metadata": {},
   "outputs": [
    {
     "name": "stdout",
     "output_type": "stream",
     "text": [
      "NO and SE: Ttest_indResult(statistic=-0.42094459733257983, pvalue=0.6738528977365044)\n",
      "SE and ES: Ttest_indResult(statistic=6.012700644386077, pvalue=2.163487662927079e-09)\n",
      "NO and ES: Ttest_indResult(statistic=5.31751240602575, pvalue=1.1799291265139793e-07)\n"
     ]
    }
   ],
   "source": [
    "print('NO and SE: ' + str(stats.ttest_ind(NO_socialact, SE_socialact)))\n",
    "print('SE and ES: ' + str(stats.ttest_ind(SE_socialact, ES_socialact)))\n",
    "print('NO and ES: ' + str(stats.ttest_ind(NO_socialact, ES_socialact)))"
   ]
  },
  {
   "cell_type": "markdown",
   "metadata": {},
   "source": [
    "The ANOVA one-way test indicates statistical significance/significant difference amongst the three countries. T-tests show that, apart from the NO-SE pairing, the other two pairs are significantly different. "
   ]
  }
 ],
 "metadata": {
  "kernelspec": {
   "display_name": "Python 3",
   "language": "python",
   "name": "python3"
  },
  "language_info": {
   "codemirror_mode": {
    "name": "ipython",
    "version": 3
   },
   "file_extension": ".py",
   "mimetype": "text/x-python",
   "name": "python",
   "nbconvert_exporter": "python",
   "pygments_lexer": "ipython3",
   "version": "3.6.7"
  }
 },
 "nbformat": 4,
 "nbformat_minor": 2
}
