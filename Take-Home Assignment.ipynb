{
 "cells": [
  {
   "cell_type": "code",
   "execution_count": 28,
   "metadata": {},
   "outputs": [],
   "source": [
    "import pandas as pd\n",
    "import numpy as np\n",
    "import matplotlib.pyplot as plt\n",
    "import seaborn as sns\n",
    "import scipy.stats as stats\n",
    "from sklearn import metrics\n",
    "%matplotlib inline\n",
    "import sklearn\n",
    "from sklearn.metrics import classification_report, confusion_matrix, roc_curve, roc_auc_score,auc"
   ]
  },
  {
   "cell_type": "markdown",
   "metadata": {},
   "source": [
    "# Preparing Dataset"
   ]
  },
  {
   "cell_type": "code",
   "execution_count": 2,
   "metadata": {
    "scrolled": true
   },
   "outputs": [],
   "source": [
    "data = pd.read_csv('customers_data.csv')\n",
    "data=data.drop(['Unnamed: 0'],axis=1)"
   ]
  },
  {
   "cell_type": "code",
   "execution_count": 3,
   "metadata": {
    "scrolled": true
   },
   "outputs": [
    {
     "name": "stdout",
     "output_type": "stream",
     "text": [
      "<class 'pandas.core.frame.DataFrame'>\n",
      "RangeIndex: 120000 entries, 0 to 119999\n",
      "Data columns (total 6 columns):\n",
      "purch_amt                120000 non-null float64\n",
      "gender                   120000 non-null object\n",
      "card_on_file             120000 non-null object\n",
      "age                      120000 non-null float64\n",
      "days_since_last_purch    120000 non-null float64\n",
      "loyalty                  120000 non-null bool\n",
      "dtypes: bool(1), float64(3), object(2)\n",
      "memory usage: 4.7+ MB\n"
     ]
    }
   ],
   "source": [
    "data.info()"
   ]
  },
  {
   "cell_type": "code",
   "execution_count": 4,
   "metadata": {},
   "outputs": [],
   "source": [
    "#we're gonna convert the boolean column to an integer column \n",
    "from sklearn import preprocessing\n",
    "lab_enc = preprocessing.LabelEncoder()\n",
    "lab_enc.fit(data['loyalty'])\n",
    "variable = lab_enc.transform(data['loyalty'])\n",
    "data['loyalty_int'] = variable"
   ]
  },
  {
   "cell_type": "code",
   "execution_count": 5,
   "metadata": {
    "scrolled": true
   },
   "outputs": [
    {
     "data": {
      "text/html": [
       "<div>\n",
       "<style scoped>\n",
       "    .dataframe tbody tr th:only-of-type {\n",
       "        vertical-align: middle;\n",
       "    }\n",
       "\n",
       "    .dataframe tbody tr th {\n",
       "        vertical-align: top;\n",
       "    }\n",
       "\n",
       "    .dataframe thead th {\n",
       "        text-align: right;\n",
       "    }\n",
       "</style>\n",
       "<table border=\"1\" class=\"dataframe\">\n",
       "  <thead>\n",
       "    <tr style=\"text-align: right;\">\n",
       "      <th></th>\n",
       "      <th>purch_amt</th>\n",
       "      <th>gender</th>\n",
       "      <th>card_on_file</th>\n",
       "      <th>age</th>\n",
       "      <th>days_since_last_purch</th>\n",
       "      <th>loyalty</th>\n",
       "      <th>loyalty_int</th>\n",
       "    </tr>\n",
       "  </thead>\n",
       "  <tbody>\n",
       "    <tr>\n",
       "      <th>0</th>\n",
       "      <td>19.58</td>\n",
       "      <td>male</td>\n",
       "      <td>no</td>\n",
       "      <td>31.0</td>\n",
       "      <td>35.0</td>\n",
       "      <td>False</td>\n",
       "      <td>0</td>\n",
       "    </tr>\n",
       "    <tr>\n",
       "      <th>1</th>\n",
       "      <td>65.16</td>\n",
       "      <td>male</td>\n",
       "      <td>yes</td>\n",
       "      <td>23.0</td>\n",
       "      <td>61.0</td>\n",
       "      <td>False</td>\n",
       "      <td>0</td>\n",
       "    </tr>\n",
       "    <tr>\n",
       "      <th>2</th>\n",
       "      <td>40.60</td>\n",
       "      <td>female</td>\n",
       "      <td>no</td>\n",
       "      <td>36.0</td>\n",
       "      <td>49.0</td>\n",
       "      <td>False</td>\n",
       "      <td>0</td>\n",
       "    </tr>\n",
       "    <tr>\n",
       "      <th>3</th>\n",
       "      <td>38.01</td>\n",
       "      <td>male</td>\n",
       "      <td>yes</td>\n",
       "      <td>47.0</td>\n",
       "      <td>57.0</td>\n",
       "      <td>False</td>\n",
       "      <td>0</td>\n",
       "    </tr>\n",
       "    <tr>\n",
       "      <th>4</th>\n",
       "      <td>22.32</td>\n",
       "      <td>female</td>\n",
       "      <td>yes</td>\n",
       "      <td>5.0</td>\n",
       "      <td>39.0</td>\n",
       "      <td>False</td>\n",
       "      <td>0</td>\n",
       "    </tr>\n",
       "  </tbody>\n",
       "</table>\n",
       "</div>"
      ],
      "text/plain": [
       "   purch_amt  gender card_on_file   age  days_since_last_purch  loyalty  \\\n",
       "0      19.58    male           no  31.0                   35.0    False   \n",
       "1      65.16    male          yes  23.0                   61.0    False   \n",
       "2      40.60  female           no  36.0                   49.0    False   \n",
       "3      38.01    male          yes  47.0                   57.0    False   \n",
       "4      22.32  female          yes   5.0                   39.0    False   \n",
       "\n",
       "   loyalty_int  \n",
       "0            0  \n",
       "1            0  \n",
       "2            0  \n",
       "3            0  \n",
       "4            0  "
      ]
     },
     "execution_count": 5,
     "metadata": {},
     "output_type": "execute_result"
    }
   ],
   "source": [
    "data.head()"
   ]
  },
  {
   "cell_type": "code",
   "execution_count": 6,
   "metadata": {},
   "outputs": [
    {
     "data": {
      "text/plain": [
       "(120000, 7)"
      ]
     },
     "execution_count": 6,
     "metadata": {},
     "output_type": "execute_result"
    }
   ],
   "source": [
    "data = data.dropna()\n",
    "data.shape"
   ]
  },
  {
   "cell_type": "code",
   "execution_count": 7,
   "metadata": {},
   "outputs": [
    {
     "data": {
      "text/html": [
       "<div>\n",
       "<style scoped>\n",
       "    .dataframe tbody tr th:only-of-type {\n",
       "        vertical-align: middle;\n",
       "    }\n",
       "\n",
       "    .dataframe tbody tr th {\n",
       "        vertical-align: top;\n",
       "    }\n",
       "\n",
       "    .dataframe thead th {\n",
       "        text-align: right;\n",
       "    }\n",
       "</style>\n",
       "<table border=\"1\" class=\"dataframe\">\n",
       "  <thead>\n",
       "    <tr style=\"text-align: right;\">\n",
       "      <th></th>\n",
       "      <th>purch_amt</th>\n",
       "      <th>gender</th>\n",
       "      <th>card_on_file</th>\n",
       "      <th>age</th>\n",
       "      <th>days_since_last_purch</th>\n",
       "      <th>loyalty</th>\n",
       "      <th>loyalty_int</th>\n",
       "    </tr>\n",
       "  </thead>\n",
       "  <tbody>\n",
       "    <tr>\n",
       "      <th>0</th>\n",
       "      <td>19.58</td>\n",
       "      <td>male</td>\n",
       "      <td>no</td>\n",
       "      <td>31.0</td>\n",
       "      <td>35.0</td>\n",
       "      <td>False</td>\n",
       "      <td>0</td>\n",
       "    </tr>\n",
       "    <tr>\n",
       "      <th>1</th>\n",
       "      <td>65.16</td>\n",
       "      <td>male</td>\n",
       "      <td>yes</td>\n",
       "      <td>23.0</td>\n",
       "      <td>61.0</td>\n",
       "      <td>False</td>\n",
       "      <td>0</td>\n",
       "    </tr>\n",
       "    <tr>\n",
       "      <th>2</th>\n",
       "      <td>40.60</td>\n",
       "      <td>female</td>\n",
       "      <td>no</td>\n",
       "      <td>36.0</td>\n",
       "      <td>49.0</td>\n",
       "      <td>False</td>\n",
       "      <td>0</td>\n",
       "    </tr>\n",
       "    <tr>\n",
       "      <th>3</th>\n",
       "      <td>38.01</td>\n",
       "      <td>male</td>\n",
       "      <td>yes</td>\n",
       "      <td>47.0</td>\n",
       "      <td>57.0</td>\n",
       "      <td>False</td>\n",
       "      <td>0</td>\n",
       "    </tr>\n",
       "    <tr>\n",
       "      <th>4</th>\n",
       "      <td>22.32</td>\n",
       "      <td>female</td>\n",
       "      <td>yes</td>\n",
       "      <td>5.0</td>\n",
       "      <td>39.0</td>\n",
       "      <td>False</td>\n",
       "      <td>0</td>\n",
       "    </tr>\n",
       "  </tbody>\n",
       "</table>\n",
       "</div>"
      ],
      "text/plain": [
       "   purch_amt  gender card_on_file   age  days_since_last_purch  loyalty  \\\n",
       "0      19.58    male           no  31.0                   35.0    False   \n",
       "1      65.16    male          yes  23.0                   61.0    False   \n",
       "2      40.60  female           no  36.0                   49.0    False   \n",
       "3      38.01    male          yes  47.0                   57.0    False   \n",
       "4      22.32  female          yes   5.0                   39.0    False   \n",
       "\n",
       "   loyalty_int  \n",
       "0            0  \n",
       "1            0  \n",
       "2            0  \n",
       "3            0  \n",
       "4            0  "
      ]
     },
     "execution_count": 7,
     "metadata": {},
     "output_type": "execute_result"
    }
   ],
   "source": [
    "data.head()"
   ]
  },
  {
   "cell_type": "markdown",
   "metadata": {},
   "source": [
    "# Exploring the Data"
   ]
  },
  {
   "cell_type": "code",
   "execution_count": 8,
   "metadata": {},
   "outputs": [
    {
     "data": {
      "text/plain": [
       "loyalty_int\n",
       "0    100000\n",
       "1     20000\n",
       "dtype: int64"
      ]
     },
     "execution_count": 8,
     "metadata": {},
     "output_type": "execute_result"
    }
   ],
   "source": [
    "data.groupby('loyalty_int').size()"
   ]
  },
  {
   "cell_type": "code",
   "execution_count": 9,
   "metadata": {},
   "outputs": [],
   "source": [
    "# male = 1, female = 0\n",
    "# card_on_file: y = 1, n = 0\n",
    "# loyalty (now named variable): True = 1, False = 0\n",
    "data = data.drop(['loyalty'],axis=1)\n",
    "data['card_on_file'] = data['card_on_file'].apply(lambda x: 1 if x=='yes' else 0)\n",
    "data['gender'] = data['gender'].apply(lambda x: 1 if x=='male' else 0)"
   ]
  },
  {
   "cell_type": "code",
   "execution_count": 10,
   "metadata": {},
   "outputs": [
    {
     "name": "stdout",
     "output_type": "stream",
     "text": [
      "<class 'pandas.core.frame.DataFrame'>\n",
      "Int64Index: 120000 entries, 0 to 119999\n",
      "Data columns (total 6 columns):\n",
      "purch_amt                120000 non-null float64\n",
      "gender                   120000 non-null int64\n",
      "card_on_file             120000 non-null int64\n",
      "age                      120000 non-null float64\n",
      "days_since_last_purch    120000 non-null float64\n",
      "loyalty_int              120000 non-null int64\n",
      "dtypes: float64(3), int64(3)\n",
      "memory usage: 6.4 MB\n"
     ]
    }
   ],
   "source": [
    "data.info()"
   ]
  },
  {
   "cell_type": "code",
   "execution_count": 11,
   "metadata": {},
   "outputs": [
    {
     "data": {
      "text/plain": [
       "Text(0,0.5,'Frequency')"
      ]
     },
     "execution_count": 11,
     "metadata": {},
     "output_type": "execute_result"
    },
    {
     "data": {
      "image/png": "[encoded data removed]",
      "text/plain": [
       "<Figure size 432x288 with 1 Axes>"
      ]
     },
     "metadata": {},
     "output_type": "display_data"
    }
   ],
   "source": [
    "loyalty_classes=pd.value_counts(data['loyalty_int'])\n",
    "loyalty_classes.plot(kind='bar')\n",
    "plt.title(\"Loyalty class histogram\")\n",
    "plt.xlabel(\"Class\")\n",
    "plt.ylabel(\"Frequency\")"
   ]
  },
  {
   "cell_type": "markdown",
   "metadata": {},
   "source": [
    "Here we see a clear class imbalance. Of the 12000 rows in the loyalty (true/false) column, 10000 are non-loyalty program individuals. For a more accurate and convincing classifier, we need to correct this before the train-test split. "
   ]
  },
  {
   "cell_type": "code",
   "execution_count": 12,
   "metadata": {},
   "outputs": [
    {
     "data": {
      "text/html": [
       "<div>\n",
       "<style scoped>\n",
       "    .dataframe tbody tr th:only-of-type {\n",
       "        vertical-align: middle;\n",
       "    }\n",
       "\n",
       "    .dataframe tbody tr th {\n",
       "        vertical-align: top;\n",
       "    }\n",
       "\n",
       "    .dataframe thead th {\n",
       "        text-align: right;\n",
       "    }\n",
       "</style>\n",
       "<table border=\"1\" class=\"dataframe\">\n",
       "  <thead>\n",
       "    <tr style=\"text-align: right;\">\n",
       "      <th></th>\n",
       "      <th>purch_amt</th>\n",
       "      <th>gender</th>\n",
       "      <th>card_on_file</th>\n",
       "      <th>age</th>\n",
       "      <th>days_since_last_purch</th>\n",
       "      <th>loyalty_int</th>\n",
       "    </tr>\n",
       "  </thead>\n",
       "  <tbody>\n",
       "    <tr>\n",
       "      <th>0</th>\n",
       "      <td>19.58</td>\n",
       "      <td>1</td>\n",
       "      <td>0</td>\n",
       "      <td>31.0</td>\n",
       "      <td>35.0</td>\n",
       "      <td>0</td>\n",
       "    </tr>\n",
       "    <tr>\n",
       "      <th>1</th>\n",
       "      <td>65.16</td>\n",
       "      <td>1</td>\n",
       "      <td>1</td>\n",
       "      <td>23.0</td>\n",
       "      <td>61.0</td>\n",
       "      <td>0</td>\n",
       "    </tr>\n",
       "    <tr>\n",
       "      <th>2</th>\n",
       "      <td>40.60</td>\n",
       "      <td>0</td>\n",
       "      <td>0</td>\n",
       "      <td>36.0</td>\n",
       "      <td>49.0</td>\n",
       "      <td>0</td>\n",
       "    </tr>\n",
       "    <tr>\n",
       "      <th>3</th>\n",
       "      <td>38.01</td>\n",
       "      <td>1</td>\n",
       "      <td>1</td>\n",
       "      <td>47.0</td>\n",
       "      <td>57.0</td>\n",
       "      <td>0</td>\n",
       "    </tr>\n",
       "    <tr>\n",
       "      <th>4</th>\n",
       "      <td>22.32</td>\n",
       "      <td>0</td>\n",
       "      <td>1</td>\n",
       "      <td>5.0</td>\n",
       "      <td>39.0</td>\n",
       "      <td>0</td>\n",
       "    </tr>\n",
       "  </tbody>\n",
       "</table>\n",
       "</div>"
      ],
      "text/plain": [
       "   purch_amt  gender  card_on_file   age  days_since_last_purch  loyalty_int\n",
       "0      19.58       1             0  31.0                   35.0            0\n",
       "1      65.16       1             1  23.0                   61.0            0\n",
       "2      40.60       0             0  36.0                   49.0            0\n",
       "3      38.01       1             1  47.0                   57.0            0\n",
       "4      22.32       0             1   5.0                   39.0            0"
      ]
     },
     "execution_count": 12,
     "metadata": {},
     "output_type": "execute_result"
    }
   ],
   "source": [
    "data_dummies = pd.get_dummies(data)\n",
    "data_dummies.head()"
   ]
  },
  {
   "cell_type": "code",
   "execution_count": 13,
   "metadata": {},
   "outputs": [
    {
     "data": {
      "text/plain": [
       "<matplotlib.axes._subplots.AxesSubplot at 0x1054d3160>"
      ]
     },
     "execution_count": 13,
     "metadata": {},
     "output_type": "execute_result"
    },
    {
     "data": {
      "image/png": "[encoded data removed]",
      "text/plain": [
       "<Figure size 1080x576 with 1 Axes>"
      ]
     },
     "metadata": {},
     "output_type": "display_data"
    }
   ],
   "source": [
    "plt.figure(figsize=(15,8))\n",
    "data_dummies.corr()['loyalty_int'].sort_values(ascending = False).plot(kind='bar')"
   ]
  },
  {
   "cell_type": "markdown",
   "metadata": {},
   "source": [
    "The graph above shows us the correlation between loyalty and other features. Of the features, purchase amount, age and gender are positively correlated, card_on_file has a correlation of 0, and days since last purchase was negatively correlated. With this in mind, and before we proceed to modeling, we will be addressing the class imbalance problem by undersampling the dataset so we have a 50-50 split between loyalty and non-loyalty individuals. "
   ]
  },
  {
   "cell_type": "code",
   "execution_count": 14,
   "metadata": {
    "scrolled": true
   },
   "outputs": [
    {
     "data": {
      "text/html": [
       "<div>\n",
       "<style scoped>\n",
       "    .dataframe tbody tr th:only-of-type {\n",
       "        vertical-align: middle;\n",
       "    }\n",
       "\n",
       "    .dataframe tbody tr th {\n",
       "        vertical-align: top;\n",
       "    }\n",
       "\n",
       "    .dataframe thead th {\n",
       "        text-align: right;\n",
       "    }\n",
       "</style>\n",
       "<table border=\"1\" class=\"dataframe\">\n",
       "  <thead>\n",
       "    <tr style=\"text-align: right;\">\n",
       "      <th></th>\n",
       "      <th>purch_amt</th>\n",
       "      <th>gender</th>\n",
       "      <th>card_on_file</th>\n",
       "      <th>age</th>\n",
       "      <th>days_since_last_purch</th>\n",
       "      <th>loyalty_int</th>\n",
       "    </tr>\n",
       "  </thead>\n",
       "  <tbody>\n",
       "    <tr>\n",
       "      <th>purch_amt</th>\n",
       "      <td>1.000000</td>\n",
       "      <td>0.000036</td>\n",
       "      <td>-0.002979</td>\n",
       "      <td>0.038749</td>\n",
       "      <td>-0.098926</td>\n",
       "      <td>0.216203</td>\n",
       "    </tr>\n",
       "    <tr>\n",
       "      <th>gender</th>\n",
       "      <td>0.000036</td>\n",
       "      <td>1.000000</td>\n",
       "      <td>-0.003238</td>\n",
       "      <td>0.006985</td>\n",
       "      <td>-0.000355</td>\n",
       "      <td>0.002810</td>\n",
       "    </tr>\n",
       "    <tr>\n",
       "      <th>card_on_file</th>\n",
       "      <td>-0.002979</td>\n",
       "      <td>-0.003238</td>\n",
       "      <td>1.000000</td>\n",
       "      <td>-0.001759</td>\n",
       "      <td>0.002351</td>\n",
       "      <td>-0.000514</td>\n",
       "    </tr>\n",
       "    <tr>\n",
       "      <th>age</th>\n",
       "      <td>0.038749</td>\n",
       "      <td>0.006985</td>\n",
       "      <td>-0.001759</td>\n",
       "      <td>1.000000</td>\n",
       "      <td>-0.084457</td>\n",
       "      <td>0.180061</td>\n",
       "    </tr>\n",
       "    <tr>\n",
       "      <th>days_since_last_purch</th>\n",
       "      <td>-0.098926</td>\n",
       "      <td>-0.000355</td>\n",
       "      <td>0.002351</td>\n",
       "      <td>-0.084457</td>\n",
       "      <td>1.000000</td>\n",
       "      <td>-0.457012</td>\n",
       "    </tr>\n",
       "    <tr>\n",
       "      <th>loyalty_int</th>\n",
       "      <td>0.216203</td>\n",
       "      <td>0.002810</td>\n",
       "      <td>-0.000514</td>\n",
       "      <td>0.180061</td>\n",
       "      <td>-0.457012</td>\n",
       "      <td>1.000000</td>\n",
       "    </tr>\n",
       "  </tbody>\n",
       "</table>\n",
       "</div>"
      ],
      "text/plain": [
       "                       purch_amt    gender  card_on_file       age  \\\n",
       "purch_amt               1.000000  0.000036     -0.002979  0.038749   \n",
       "gender                  0.000036  1.000000     -0.003238  0.006985   \n",
       "card_on_file           -0.002979 -0.003238      1.000000 -0.001759   \n",
       "age                     0.038749  0.006985     -0.001759  1.000000   \n",
       "days_since_last_purch  -0.098926 -0.000355      0.002351 -0.084457   \n",
       "loyalty_int             0.216203  0.002810     -0.000514  0.180061   \n",
       "\n",
       "                       days_since_last_purch  loyalty_int  \n",
       "purch_amt                          -0.098926     0.216203  \n",
       "gender                             -0.000355     0.002810  \n",
       "card_on_file                        0.002351    -0.000514  \n",
       "age                                -0.084457     0.180061  \n",
       "days_since_last_purch               1.000000    -0.457012  \n",
       "loyalty_int                        -0.457012     1.000000  "
      ]
     },
     "execution_count": 14,
     "metadata": {},
     "output_type": "execute_result"
    }
   ],
   "source": [
    "data_dummies.corr()"
   ]
  },
  {
   "cell_type": "code",
   "execution_count": 15,
   "metadata": {},
   "outputs": [],
   "source": [
    "X=data.loc[:,data.columns!='loyalty_int']\n",
    "Y=data.loc[:,data.columns=='loyalty_int']"
   ]
  },
  {
   "cell_type": "code",
   "execution_count": 16,
   "metadata": {},
   "outputs": [
    {
     "name": "stdout",
     "output_type": "stream",
     "text": [
      "Non Loyalty (%): 0.5\n",
      "Loyalty (%): 0.5\n",
      "Total number in data: 40000\n"
     ]
    }
   ],
   "source": [
    "loyalty=len(data[data.loyalty_int==1])\n",
    "loyalty_index=np.array(data[data.loyalty_int==1].index)\n",
    "non_loyalty_index=data[data.loyalty_int==0].index\n",
    "random_non_loyalty=np.random.choice(non_loyalty_index,loyalty,replace=False)\n",
    "random_non_loyalty_index=np.array(random_non_loyalty)\n",
    "under_sample_index=np.concatenate([loyalty_index,random_non_loyalty_index])\n",
    "under_sampling=data.iloc[under_sample_index,:]\n",
    "X_undersampled=data.loc[:,under_sampling.columns!='loyalty_int']\n",
    "Y_undersampled=data.loc[:,under_sampling.columns=='loyalty_int']\n",
    "print(\"Non Loyalty (%):\",len(under_sampling[under_sampling.loyalty_int==0])/len(under_sampling))\n",
    "print(\"Loyalty (%):\",len(under_sampling[under_sampling.loyalty_int==1])/len(under_sampling))\n",
    "print(\"Total number in data:\", len(under_sampling))"
   ]
  },
  {
   "cell_type": "markdown",
   "metadata": {},
   "source": [
    "# Modeling: Random Forest Classifier"
   ]
  },
  {
   "cell_type": "markdown",
   "metadata": {},
   "source": [
    "Now we're on. We will be using a random forest classifier for this case. Reasons for this are: \n",
    "1. This is a classification problem\n",
    "2. It is easy to observe feature importance\n",
    "3. Provides us with a classification report which gives us precision, f1 score, and recall. \n",
    "\n",
    "We're going to keep the test size to 40%, using our newly undersampled dataset. "
   ]
  },
  {
   "cell_type": "code",
   "execution_count": 17,
   "metadata": {},
   "outputs": [],
   "source": [
    "from sklearn.ensemble import RandomForestClassifier\n",
    "from sklearn.tree import DecisionTreeClassifier\n",
    "from sklearn.model_selection import train_test_split\n",
    "X_train,X_test,Y_train,Y_test=train_test_split(X,Y,test_size=0.4, random_state=0)\n",
    "X_train_under,X_test_under,Y_train_under,Y_test_under=train_test_split(X_undersampled,Y_undersampled, test_size=0.4,random_state=0)"
   ]
  },
  {
   "cell_type": "code",
   "execution_count": 18,
   "metadata": {},
   "outputs": [
    {
     "name": "stderr",
     "output_type": "stream",
     "text": [
      "/Users/samuelkim/anaconda3/lib/python3.6/site-packages/sklearn/ensemble/forest.py:246: FutureWarning: The default value of n_estimators will change from 10 in version 0.20 to 100 in 0.22.\n",
      "  \"10 in version 0.20 to 100 in 0.22.\", FutureWarning)\n",
      "/Users/samuelkim/anaconda3/lib/python3.6/site-packages/ipykernel_launcher.py:2: DataConversionWarning: A column-vector y was passed when a 1d array was expected. Please change the shape of y to (n_samples,), for example using ravel().\n",
      "  \n"
     ]
    },
    {
     "name": "stdout",
     "output_type": "stream",
     "text": [
      "purch_amt                0.419358\n",
      "days_since_last_purch    0.360370\n",
      "age                      0.188700\n",
      "gender                   0.016303\n",
      "card_on_file             0.015269\n",
      "dtype: float64\n"
     ]
    }
   ],
   "source": [
    "clf=RandomForestClassifier()\n",
    "clf.fit(X_train_under,Y_train_under)\n",
    "important_features=pd.Series(clf.feature_importances_,index=X_train_under.columns).sort_values(ascending=False)\n",
    "print(important_features)"
   ]
  },
  {
   "cell_type": "markdown",
   "metadata": {},
   "source": [
    "Here we see that purchase amount, at 0.42, is the most important feature, followed by days_since_last_purch, and age. The relative lack of importance of gender and card_on_file came as a bit of a surprise. We'll visualize this below.  "
   ]
  },
  {
   "cell_type": "code",
   "execution_count": 19,
   "metadata": {},
   "outputs": [
    {
     "data": {
      "image/png": "[encoded data removed]",
      "text/plain": [
       "<Figure size 432x288 with 1 Axes>"
      ]
     },
     "metadata": {},
     "output_type": "display_data"
    }
   ],
   "source": [
    "feats={}\n",
    "for feature,importance in zip(data.columns, clf.feature_importances_):\n",
    "    feats[feature]=importance\n",
    "importances=pd.DataFrame.from_dict(feats, orient='index').rename(columns={0:'Gini-importance'})\n",
    "importances.sort_values(by='Gini-importance').plot(kind='bar',rot=90)\n",
    "plt.show()"
   ]
  },
  {
   "cell_type": "code",
   "execution_count": 20,
   "metadata": {},
   "outputs": [
    {
     "name": "stderr",
     "output_type": "stream",
     "text": [
      "/Users/samuelkim/anaconda3/lib/python3.6/site-packages/ipykernel_launcher.py:1: DataConversionWarning: A column-vector y was passed when a 1d array was expected. Please change the shape of y to (n_samples,), for example using ravel().\n",
      "  \"\"\"Entry point for launching an IPython kernel.\n"
     ]
    },
    {
     "name": "stdout",
     "output_type": "stream",
     "text": [
      "              precision    recall  f1-score   support\n",
      "\n",
      "           0       0.88      0.94      0.91     39978\n",
      "           1       0.56      0.38      0.45      8022\n",
      "\n",
      "   micro avg       0.85      0.85      0.85     48000\n",
      "   macro avg       0.72      0.66      0.68     48000\n",
      "weighted avg       0.83      0.85      0.83     48000\n",
      "\n"
     ]
    }
   ],
   "source": [
    "clf.fit(X_train_under,Y_train_under)\n",
    "pred=clf.predict(X_test_under)\n",
    "print(classification_report(Y_test_under,pred))"
   ]
  },
  {
   "cell_type": "code",
   "execution_count": 21,
   "metadata": {},
   "outputs": [
    {
     "name": "stdout",
     "output_type": "stream",
     "text": [
      "0.6585307876699424\n"
     ]
    }
   ],
   "source": [
    "false_positive,true_positive,thresholds=roc_curve(Y_test_under,pred)\n",
    "roc_auc=auc(false_positive,true_positive)\n",
    "print(roc_auc)"
   ]
  },
  {
   "cell_type": "markdown",
   "metadata": {},
   "source": [
    "We've run a classification report and a roc score to assess how well the model distinguishes between classes - and it doesn't. The model performs well across the board for non-loyalty customers, but is woefully inadequate for loyalty customers. We'll see if dropping the card_on_file feature would improve overall performance/consistency. "
   ]
  },
  {
   "cell_type": "code",
   "execution_count": 22,
   "metadata": {},
   "outputs": [],
   "source": [
    "X_train_under_new, X_test_under_new, Y_train_under_new, Y_test_under_new = train_test_split(X_undersampled[['gender','purch_amt','days_since_last_purch','age']], Y_undersampled, \n",
    "                                                    test_size=0.40, random_state=50)"
   ]
  },
  {
   "cell_type": "code",
   "execution_count": 23,
   "metadata": {},
   "outputs": [
    {
     "name": "stdout",
     "output_type": "stream",
     "text": [
      "              precision    recall  f1-score   support\n",
      "\n",
      "           0       0.89      0.88      0.88     39963\n",
      "           1       0.42      0.44      0.43      8037\n",
      "\n",
      "   micro avg       0.81      0.81      0.81     48000\n",
      "   macro avg       0.66      0.66      0.66     48000\n",
      "weighted avg       0.81      0.81      0.81     48000\n",
      "\n"
     ]
    }
   ],
   "source": [
    "clf_new=DecisionTreeClassifier()\n",
    "clf_new.fit(X_train_under_new, Y_train_under_new)\n",
    "pred_new=clf_new.predict(X_test_under_new)\n",
    "print(classification_report(Y_test_under_new, pred_new))"
   ]
  },
  {
   "cell_type": "markdown",
   "metadata": {},
   "source": [
    "The result - model with card_on_file dropped performs at roughly a similar level - the scores are more consistent across the board - especially for loyalty customers. "
   ]
  },
  {
   "cell_type": "code",
   "execution_count": 35,
   "metadata": {},
   "outputs": [
    {
     "name": "stderr",
     "output_type": "stream",
     "text": [
      "/Users/samuelkim/anaconda3/lib/python3.6/site-packages/ipykernel_launcher.py:2: DataConversionWarning: A column-vector y was passed when a 1d array was expected. Please change the shape of y to (n_samples,), for example using ravel().\n",
      "  \n"
     ]
    },
    {
     "name": "stdout",
     "output_type": "stream",
     "text": [
      "0.8578541666666667\n"
     ]
    }
   ],
   "source": [
    "model_rf = RandomForestClassifier(n_estimators=500 , n_jobs = -1, random_state =50, max_leaf_nodes = 10)\n",
    "model_rf.fit(X_train, Y_train)\n",
    "prediction_test = model_rf.predict(X_test_under)\n",
    "print (metrics.accuracy_score(Y_test_under, prediction_test))"
   ]
  },
  {
   "cell_type": "markdown",
   "metadata": {},
   "source": [
    "The accuracy score notwithstanding, a little more work needs to be done with this model, but it is a good start. I will explaining my thought process in greater detail in my write-up (see attached). "
   ]
  },
  {
   "cell_type": "code",
   "execution_count": null,
   "metadata": {},
   "outputs": [],
   "source": []
  }
 ],
 "metadata": {
  "kernelspec": {
   "display_name": "Python 3",
   "language": "python",
   "name": "python3"
  },
  "language_info": {
   "codemirror_mode": {
    "name": "ipython",
    "version": 3
   },
   "file_extension": ".py",
   "mimetype": "text/x-python",
   "name": "python",
   "nbconvert_exporter": "python",
   "pygments_lexer": "ipython3",
   "version": "3.6.7"
  }
 },
 "nbformat": 4,
 "nbformat_minor": 2
}
