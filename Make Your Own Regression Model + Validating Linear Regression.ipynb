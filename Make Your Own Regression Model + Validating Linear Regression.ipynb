{
 "cells": [
  {
   "cell_type": "code",
   "execution_count": 166,
   "metadata": {},
   "outputs": [],
   "source": [
    "import pandas as pd\n",
    "from matplotlib import pyplot as plt\n",
    "import numpy as np\n",
    "from sklearn import linear_model\n",
    "from sklearn import metrics\n",
    "%matplotlib inline\n",
    "pd.options.display.float_format='{:.3f}'.format\n",
    "\n",
    "import warnings\n",
    "warnings.filterwarnings(action='ignore', module='scipy', message='^internal gelsd')"
   ]
  },
  {
   "cell_type": "code",
   "execution_count": 184,
   "metadata": {},
   "outputs": [],
   "source": [
    "#Prepare and clean this data to model according to this formula:Property crime = \\alpha + Population + Population-squared + Murder + Robbery\n",
    "\n",
    "df=pd.read_excel('table_8_offenses_known_to_law_enforcement_new_york_by_city_2013.xls', header=4)\n",
    "df_2014=pd.read_excel('Table_8_Offenses_Known_to_Law_Enforcement_by_New_York_by_City_2014.xls', header=4)"
   ]
  },
  {
   "cell_type": "markdown",
   "metadata": {},
   "source": [
    "## Preparing Dataset, Model"
   ]
  },
  {
   "cell_type": "code",
   "execution_count": 185,
   "metadata": {},
   "outputs": [
    {
     "data": {
      "text/html": [
       "<div>\n",
       "<style scoped>\n",
       "    .dataframe tbody tr th:only-of-type {\n",
       "        vertical-align: middle;\n",
       "    }\n",
       "\n",
       "    .dataframe tbody tr th {\n",
       "        vertical-align: top;\n",
       "    }\n",
       "\n",
       "    .dataframe thead th {\n",
       "        text-align: right;\n",
       "    }\n",
       "</style>\n",
       "<table border=\"1\" class=\"dataframe\">\n",
       "  <thead>\n",
       "    <tr style=\"text-align: right;\">\n",
       "      <th></th>\n",
       "      <th>City</th>\n",
       "      <th>Population</th>\n",
       "      <th>Violent\n",
       "crime</th>\n",
       "      <th>Murder and\n",
       "nonnegligent\n",
       "manslaughter</th>\n",
       "      <th>Rape\n",
       "(revised\n",
       "definition)1</th>\n",
       "      <th>Rape\n",
       "(legacy\n",
       "definition)2</th>\n",
       "      <th>Robbery</th>\n",
       "      <th>Aggravated\n",
       "assault</th>\n",
       "      <th>Property\n",
       "crime</th>\n",
       "      <th>Burglary</th>\n",
       "      <th>Larceny-\n",
       "theft</th>\n",
       "      <th>Motor\n",
       "vehicle\n",
       "theft</th>\n",
       "      <th>Arson3</th>\n",
       "      <th>Property_crime</th>\n",
       "    </tr>\n",
       "  </thead>\n",
       "  <tbody>\n",
       "    <tr>\n",
       "      <th>0</th>\n",
       "      <td>Adams Village</td>\n",
       "      <td>1861.000</td>\n",
       "      <td>0.000</td>\n",
       "      <td>0.000</td>\n",
       "      <td>nan</td>\n",
       "      <td>0.000</td>\n",
       "      <td>0.000</td>\n",
       "      <td>0.000</td>\n",
       "      <td>12.000</td>\n",
       "      <td>2.000</td>\n",
       "      <td>10.000</td>\n",
       "      <td>0.000</td>\n",
       "      <td>0.000</td>\n",
       "      <td>12.000</td>\n",
       "    </tr>\n",
       "    <tr>\n",
       "      <th>1</th>\n",
       "      <td>Addison Town and Village</td>\n",
       "      <td>2577.000</td>\n",
       "      <td>3.000</td>\n",
       "      <td>0.000</td>\n",
       "      <td>nan</td>\n",
       "      <td>0.000</td>\n",
       "      <td>0.000</td>\n",
       "      <td>3.000</td>\n",
       "      <td>24.000</td>\n",
       "      <td>3.000</td>\n",
       "      <td>20.000</td>\n",
       "      <td>1.000</td>\n",
       "      <td>0.000</td>\n",
       "      <td>24.000</td>\n",
       "    </tr>\n",
       "    <tr>\n",
       "      <th>2</th>\n",
       "      <td>Akron Village</td>\n",
       "      <td>2846.000</td>\n",
       "      <td>3.000</td>\n",
       "      <td>0.000</td>\n",
       "      <td>nan</td>\n",
       "      <td>0.000</td>\n",
       "      <td>0.000</td>\n",
       "      <td>3.000</td>\n",
       "      <td>16.000</td>\n",
       "      <td>1.000</td>\n",
       "      <td>15.000</td>\n",
       "      <td>0.000</td>\n",
       "      <td>0.000</td>\n",
       "      <td>16.000</td>\n",
       "    </tr>\n",
       "    <tr>\n",
       "      <th>3</th>\n",
       "      <td>Albany</td>\n",
       "      <td>97956.000</td>\n",
       "      <td>791.000</td>\n",
       "      <td>8.000</td>\n",
       "      <td>nan</td>\n",
       "      <td>30.000</td>\n",
       "      <td>227.000</td>\n",
       "      <td>526.000</td>\n",
       "      <td>4090.000</td>\n",
       "      <td>705.000</td>\n",
       "      <td>3243.000</td>\n",
       "      <td>142.000</td>\n",
       "      <td>nan</td>\n",
       "      <td>4090.000</td>\n",
       "    </tr>\n",
       "    <tr>\n",
       "      <th>4</th>\n",
       "      <td>Albion Village</td>\n",
       "      <td>6388.000</td>\n",
       "      <td>23.000</td>\n",
       "      <td>0.000</td>\n",
       "      <td>nan</td>\n",
       "      <td>3.000</td>\n",
       "      <td>4.000</td>\n",
       "      <td>16.000</td>\n",
       "      <td>223.000</td>\n",
       "      <td>53.000</td>\n",
       "      <td>165.000</td>\n",
       "      <td>5.000</td>\n",
       "      <td>nan</td>\n",
       "      <td>223.000</td>\n",
       "    </tr>\n",
       "  </tbody>\n",
       "</table>\n",
       "</div>"
      ],
      "text/plain": [
       "                       City  Population  Violent\\ncrime  \\\n",
       "0             Adams Village    1861.000           0.000   \n",
       "1  Addison Town and Village    2577.000           3.000   \n",
       "2             Akron Village    2846.000           3.000   \n",
       "3                    Albany   97956.000         791.000   \n",
       "4            Albion Village    6388.000          23.000   \n",
       "\n",
       "   Murder and\\nnonnegligent\\nmanslaughter  Rape\\n(revised\\ndefinition)1  \\\n",
       "0                                   0.000                           nan   \n",
       "1                                   0.000                           nan   \n",
       "2                                   0.000                           nan   \n",
       "3                                   8.000                           nan   \n",
       "4                                   0.000                           nan   \n",
       "\n",
       "   Rape\\n(legacy\\ndefinition)2  Robbery  Aggravated\\nassault  Property\\ncrime  \\\n",
       "0                        0.000    0.000                0.000           12.000   \n",
       "1                        0.000    0.000                3.000           24.000   \n",
       "2                        0.000    0.000                3.000           16.000   \n",
       "3                       30.000  227.000              526.000         4090.000   \n",
       "4                        3.000    4.000               16.000          223.000   \n",
       "\n",
       "   Burglary  Larceny-\\ntheft  Motor\\nvehicle\\ntheft  Arson3  Property_crime  \n",
       "0     2.000           10.000                  0.000   0.000          12.000  \n",
       "1     3.000           20.000                  1.000   0.000          24.000  \n",
       "2     1.000           15.000                  0.000   0.000          16.000  \n",
       "3   705.000         3243.000                142.000     nan        4090.000  \n",
       "4    53.000          165.000                  5.000     nan         223.000  "
      ]
     },
     "execution_count": 185,
     "metadata": {},
     "output_type": "execute_result"
    }
   ],
   "source": [
    "#calculate the median, std and the limit for outliers\n",
    "#turn outliers into None\n",
    "median=df.Population.median()\n",
    "std_dev=df.Population.std()\n",
    "pop_outliers=median+2*std_dev\n",
    "df['Population']=df.Population.map(lambda x: x if x < pop_outliers else None)\n",
    "\n",
    "median=df['Murder and\\nnonnegligent\\nmanslaughter'].median()\n",
    "std_dev=df['Murder and\\nnonnegligent\\nmanslaughter'].std()\n",
    "murder_outliers=median + 2*std_dev\n",
    "df['Murder and\\nnonnegligent\\nmanslaughter']=df['Murder and\\nnonnegligent\\nmanslaughter'].map(lambda x: x if x < murder_outliers else None)\n",
    "\n",
    "median=df.Robbery.median()\n",
    "std_dev=df.Robbery.std()\n",
    "rob_outliers=median+2*std_dev\n",
    "df['Robbery']=df.Robbery.map(lambda x: x if x < rob_outliers else None)\n",
    "\n",
    "median=df['Property\\ncrime'].median()\n",
    "std_dev=df['Property\\ncrime'].std()\n",
    "prop_crime_outliers=median+2* std_dev\n",
    "df['Property_crime']=df['Property\\ncrime'].map(lambda x: x if x < prop_crime_outliers else None)\n",
    "\n",
    "df.head()"
   ]
  },
  {
   "cell_type": "code",
   "execution_count": 186,
   "metadata": {},
   "outputs": [],
   "source": [
    "#introduce Population squared\n",
    "df['Population_Sq']=df['Population']**2"
   ]
  },
  {
   "cell_type": "code",
   "execution_count": 187,
   "metadata": {},
   "outputs": [],
   "source": [
    "df['Murder']=df['Murder and\\nnonnegligent\\nmanslaughter'].dropna().map(lambda x:1 if x > 0 else 0)\n",
    "df['Robbery']=df.Robbery.dropna().map(lambda x:1 if x > 0 else 0)\n",
    "#murder and robbery now categorical features (Y/N)"
   ]
  },
  {
   "cell_type": "code",
   "execution_count": 188,
   "metadata": {},
   "outputs": [
    {
     "data": {
      "text/html": [
       "<div>\n",
       "<style scoped>\n",
       "    .dataframe tbody tr th:only-of-type {\n",
       "        vertical-align: middle;\n",
       "    }\n",
       "\n",
       "    .dataframe tbody tr th {\n",
       "        vertical-align: top;\n",
       "    }\n",
       "\n",
       "    .dataframe thead th {\n",
       "        text-align: right;\n",
       "    }\n",
       "</style>\n",
       "<table border=\"1\" class=\"dataframe\">\n",
       "  <thead>\n",
       "    <tr style=\"text-align: right;\">\n",
       "      <th></th>\n",
       "      <th>Population</th>\n",
       "      <th>Population_Sq</th>\n",
       "      <th>Murder</th>\n",
       "      <th>Robbery</th>\n",
       "      <th>Property_crime</th>\n",
       "    </tr>\n",
       "  </thead>\n",
       "  <tbody>\n",
       "    <tr>\n",
       "      <th>0</th>\n",
       "      <td>1861.000</td>\n",
       "      <td>3463321.000</td>\n",
       "      <td>0.000</td>\n",
       "      <td>0.000</td>\n",
       "      <td>12.000</td>\n",
       "    </tr>\n",
       "    <tr>\n",
       "      <th>1</th>\n",
       "      <td>2577.000</td>\n",
       "      <td>6640929.000</td>\n",
       "      <td>0.000</td>\n",
       "      <td>0.000</td>\n",
       "      <td>24.000</td>\n",
       "    </tr>\n",
       "    <tr>\n",
       "      <th>2</th>\n",
       "      <td>2846.000</td>\n",
       "      <td>8099716.000</td>\n",
       "      <td>0.000</td>\n",
       "      <td>0.000</td>\n",
       "      <td>16.000</td>\n",
       "    </tr>\n",
       "    <tr>\n",
       "      <th>3</th>\n",
       "      <td>97956.000</td>\n",
       "      <td>9595377936.000</td>\n",
       "      <td>1.000</td>\n",
       "      <td>1.000</td>\n",
       "      <td>4090.000</td>\n",
       "    </tr>\n",
       "    <tr>\n",
       "      <th>4</th>\n",
       "      <td>6388.000</td>\n",
       "      <td>40806544.000</td>\n",
       "      <td>0.000</td>\n",
       "      <td>1.000</td>\n",
       "      <td>223.000</td>\n",
       "    </tr>\n",
       "  </tbody>\n",
       "</table>\n",
       "</div>"
      ],
      "text/plain": [
       "   Population  Population_Sq  Murder  Robbery  Property_crime\n",
       "0    1861.000    3463321.000   0.000    0.000          12.000\n",
       "1    2577.000    6640929.000   0.000    0.000          24.000\n",
       "2    2846.000    8099716.000   0.000    0.000          16.000\n",
       "3   97956.000 9595377936.000   1.000    1.000        4090.000\n",
       "4    6388.000   40806544.000   0.000    1.000         223.000"
      ]
     },
     "execution_count": 188,
     "metadata": {},
     "output_type": "execute_result"
    }
   ],
   "source": [
    "data=df[['Population','Population_Sq','Murder','Robbery','Property_crime']].dropna()\n",
    "data.head()"
   ]
  },
  {
   "cell_type": "markdown",
   "metadata": {},
   "source": [
    "## Initial Model - Simple Linear Regression"
   ]
  },
  {
   "cell_type": "code",
   "execution_count": 189,
   "metadata": {},
   "outputs": [
    {
     "name": "stdout",
     "output_type": "stream",
     "text": [
      "\n",
      "Coefficients: \n",
      " [ 2.62320223e-02 -3.30058846e-08  1.70080551e+02  1.27606800e+01]\n",
      "\n",
      "Intercept: \n",
      " -70.88477571593825\n",
      "\n",
      "R-squared: \n",
      "\n",
      "0.7135336089794011\n"
     ]
    }
   ],
   "source": [
    "regr=linear_model.LinearRegression()\n",
    "Y=data['Property_crime']\n",
    "X=data[['Population','Population_Sq','Murder','Robbery']]\n",
    "regr.fit(X, Y)\n",
    "\n",
    "#Review the outcome\n",
    "print('\\nCoefficients: \\n', regr.coef_)\n",
    "print('\\nIntercept: \\n', regr.intercept_)\n",
    "print('\\nR-squared: \\n')\n",
    "print(regr.score(X, Y))"
   ]
  },
  {
   "cell_type": "markdown",
   "metadata": {},
   "source": [
    "## Cross Validation"
   ]
  },
  {
   "cell_type": "code",
   "execution_count": 209,
   "metadata": {},
   "outputs": [
    {
     "name": "stdout",
     "output_type": "stream",
     "text": [
      "Test Accuracy: 0.6044083539343951\n",
      "Cross Validation\n",
      "Scores: [0.72916326 0.59135816 0.84034251]\n",
      "Mean: 0.7202879784789497\n",
      "Standard deviation: 0.10184098861197906\n",
      "RMSE Test Data: 547.8202818329678\n"
     ]
    }
   ],
   "source": [
    "from sklearn import cross_validation\n",
    "from sklearn import model_selection\n",
    "\n",
    "#Split data into train and test\n",
    "X_train, X_test, y_train, y_test = cross_validation.train_test_split(X, Y, test_size=0.25, random_state=222)\n",
    "regr.fit(X_train, y_train)\n",
    "y_pred=regr.predict(X_test)\n",
    "accuracy=regr.score(X_test, y_test)\n",
    "print('Test Accuracy:', accuracy)\n",
    "\n",
    "#cross validation\n",
    "scores=model_selection.cross_val_score(regr, X_train, y_train, cv=3)\n",
    "\n",
    "#review outcome\n",
    "print('Cross Validation\\nScores:', scores)\n",
    "print('Mean:', scores.mean())\n",
    "print('Standard deviation:', scores.std())\n",
    "RMSE_test=np.sqrt(metrics.mean_squared_error(y_test, y_pred))\n",
    "print('RMSE Test Data:', RMSE_test)"
   ]
  },
  {
   "cell_type": "markdown",
   "metadata": {},
   "source": [
    "## Ordinary Least Squares Regression"
   ]
  },
  {
   "cell_type": "markdown",
   "metadata": {},
   "source": [
    "### OLS 1"
   ]
  },
  {
   "cell_type": "code",
   "execution_count": 205,
   "metadata": {},
   "outputs": [
    {
     "name": "stdout",
     "output_type": "stream",
     "text": [
      "Coefficients:\n",
      " Intercept       -70.885\n",
      "Population        0.026\n",
      "Population_Sq    -0.000\n",
      "Murder          170.081\n",
      "Robbery          12.761\n",
      "dtype: float64\n",
      "\n",
      "P-values:\n",
      " Intercept       0.016\n",
      "Population      0.000\n",
      "Population_Sq   0.019\n",
      "Murder          0.006\n",
      "Robbery         0.761\n",
      "dtype: float64\n",
      "\n",
      "R-squared:\n",
      " 0.7135336089794011\n"
     ]
    },
    {
     "data": {
      "text/html": [
       "<div>\n",
       "<style scoped>\n",
       "    .dataframe tbody tr th:only-of-type {\n",
       "        vertical-align: middle;\n",
       "    }\n",
       "\n",
       "    .dataframe tbody tr th {\n",
       "        vertical-align: top;\n",
       "    }\n",
       "\n",
       "    .dataframe thead th {\n",
       "        text-align: right;\n",
       "    }\n",
       "</style>\n",
       "<table border=\"1\" class=\"dataframe\">\n",
       "  <thead>\n",
       "    <tr style=\"text-align: right;\">\n",
       "      <th></th>\n",
       "      <th>0</th>\n",
       "      <th>1</th>\n",
       "    </tr>\n",
       "  </thead>\n",
       "  <tbody>\n",
       "    <tr>\n",
       "      <th>Intercept</th>\n",
       "      <td>-128.429</td>\n",
       "      <td>-13.340</td>\n",
       "    </tr>\n",
       "    <tr>\n",
       "      <th>Population</th>\n",
       "      <td>0.022</td>\n",
       "      <td>0.030</td>\n",
       "    </tr>\n",
       "    <tr>\n",
       "      <th>Population_Sq</th>\n",
       "      <td>-0.000</td>\n",
       "      <td>-0.000</td>\n",
       "    </tr>\n",
       "    <tr>\n",
       "      <th>Murder</th>\n",
       "      <td>48.925</td>\n",
       "      <td>291.236</td>\n",
       "    </tr>\n",
       "    <tr>\n",
       "      <th>Robbery</th>\n",
       "      <td>-69.581</td>\n",
       "      <td>95.102</td>\n",
       "    </tr>\n",
       "  </tbody>\n",
       "</table>\n",
       "</div>"
      ],
      "text/plain": [
       "                     0       1\n",
       "Intercept     -128.429 -13.340\n",
       "Population       0.022   0.030\n",
       "Population_Sq   -0.000  -0.000\n",
       "Murder          48.925 291.236\n",
       "Robbery        -69.581  95.102"
      ]
     },
     "execution_count": 205,
     "metadata": {},
     "output_type": "execute_result"
    }
   ],
   "source": [
    "linear_formula='Property_crime ~ Population+Population_Sq+Murder+Robbery'\n",
    "\n",
    "lf=smf.ols(formula=linear_formula, data=data).fit()\n",
    "\n",
    "print('Coefficients:\\n', lf.params)\n",
    "print('\\nP-values:\\n', lf.pvalues)\n",
    "print('\\nR-squared:\\n', lf.rsquared)\n",
    "lf.conf_int()"
   ]
  },
  {
   "cell_type": "markdown",
   "metadata": {},
   "source": [
    "### OLS 2"
   ]
  },
  {
   "cell_type": "code",
   "execution_count": 204,
   "metadata": {},
   "outputs": [
    {
     "name": "stdout",
     "output_type": "stream",
     "text": [
      "Coefficients:\n",
      " Intercept    -53.405\n",
      "Population     0.022\n",
      "Murder       192.486\n",
      "Robbery       44.234\n",
      "dtype: float64\n",
      "\n",
      "P-values:\n",
      " Intercept    0.062\n",
      "Population   0.000\n",
      "Murder       0.002\n",
      "Robbery      0.269\n",
      "dtype: float64\n",
      "\n",
      "R-squared:\n",
      " 0.7088744678562764\n"
     ]
    },
    {
     "data": {
      "text/html": [
       "<div>\n",
       "<style scoped>\n",
       "    .dataframe tbody tr th:only-of-type {\n",
       "        vertical-align: middle;\n",
       "    }\n",
       "\n",
       "    .dataframe tbody tr th {\n",
       "        vertical-align: top;\n",
       "    }\n",
       "\n",
       "    .dataframe thead th {\n",
       "        text-align: right;\n",
       "    }\n",
       "</style>\n",
       "<table border=\"1\" class=\"dataframe\">\n",
       "  <thead>\n",
       "    <tr style=\"text-align: right;\">\n",
       "      <th></th>\n",
       "      <th>0</th>\n",
       "      <th>1</th>\n",
       "    </tr>\n",
       "  </thead>\n",
       "  <tbody>\n",
       "    <tr>\n",
       "      <th>Intercept</th>\n",
       "      <td>-109.429</td>\n",
       "      <td>2.619</td>\n",
       "    </tr>\n",
       "    <tr>\n",
       "      <th>Population</th>\n",
       "      <td>0.020</td>\n",
       "      <td>0.024</td>\n",
       "    </tr>\n",
       "    <tr>\n",
       "      <th>Murder</th>\n",
       "      <td>71.997</td>\n",
       "      <td>312.974</td>\n",
       "    </tr>\n",
       "    <tr>\n",
       "      <th>Robbery</th>\n",
       "      <td>-34.301</td>\n",
       "      <td>122.769</td>\n",
       "    </tr>\n",
       "  </tbody>\n",
       "</table>\n",
       "</div>"
      ],
      "text/plain": [
       "                  0       1\n",
       "Intercept  -109.429   2.619\n",
       "Population    0.020   0.024\n",
       "Murder       71.997 312.974\n",
       "Robbery     -34.301 122.769"
      ]
     },
     "execution_count": 204,
     "metadata": {},
     "output_type": "execute_result"
    }
   ],
   "source": [
    "linear_formula2='Property_crime ~ Population+Murder+Robbery'\n",
    "\n",
    "lf2=smf.ols(formula=linear_formula2, data=data).fit()\n",
    "print('Coefficients:\\n', lf2.params)\n",
    "print('\\nP-values:\\n', lf2.pvalues)\n",
    "print('\\nR-squared:\\n', lf2.rsquared)\n",
    "lf2.conf_int()"
   ]
  },
  {
   "cell_type": "markdown",
   "metadata": {},
   "source": [
    "### OLS 3"
   ]
  },
  {
   "cell_type": "code",
   "execution_count": 206,
   "metadata": {},
   "outputs": [
    {
     "name": "stdout",
     "output_type": "stream",
     "text": [
      "Coefficients:\n",
      " Intercept    -32.989\n",
      "Population     0.022\n",
      "Murder       201.795\n",
      "dtype: float64\n",
      "\n",
      "P-values:\n",
      " Intercept    0.130\n",
      "Population   0.000\n",
      "Murder       0.001\n",
      "dtype: float64\n",
      "\n",
      "R-squared:\n",
      " 0.7078266130021879\n"
     ]
    },
    {
     "data": {
      "text/html": [
       "<div>\n",
       "<style scoped>\n",
       "    .dataframe tbody tr th:only-of-type {\n",
       "        vertical-align: middle;\n",
       "    }\n",
       "\n",
       "    .dataframe tbody tr th {\n",
       "        vertical-align: top;\n",
       "    }\n",
       "\n",
       "    .dataframe thead th {\n",
       "        text-align: right;\n",
       "    }\n",
       "</style>\n",
       "<table border=\"1\" class=\"dataframe\">\n",
       "  <thead>\n",
       "    <tr style=\"text-align: right;\">\n",
       "      <th></th>\n",
       "      <th>0</th>\n",
       "      <th>1</th>\n",
       "    </tr>\n",
       "  </thead>\n",
       "  <tbody>\n",
       "    <tr>\n",
       "      <th>Intercept</th>\n",
       "      <td>-75.720</td>\n",
       "      <td>9.742</td>\n",
       "    </tr>\n",
       "    <tr>\n",
       "      <th>Population</th>\n",
       "      <td>0.020</td>\n",
       "      <td>0.024</td>\n",
       "    </tr>\n",
       "    <tr>\n",
       "      <th>Murder</th>\n",
       "      <td>82.407</td>\n",
       "      <td>321.183</td>\n",
       "    </tr>\n",
       "  </tbody>\n",
       "</table>\n",
       "</div>"
      ],
      "text/plain": [
       "                 0       1\n",
       "Intercept  -75.720   9.742\n",
       "Population   0.020   0.024\n",
       "Murder      82.407 321.183"
      ]
     },
     "execution_count": 206,
     "metadata": {},
     "output_type": "execute_result"
    }
   ],
   "source": [
    "linear_formula3='Property_crime ~ Population+Murder'\n",
    "\n",
    "lf3=smf.ols(formula=linear_formula3, data=data).fit()\n",
    "print('Coefficients:\\n', lf3.params)\n",
    "print('\\nP-values:\\n', lf3.pvalues)\n",
    "print('\\nR-squared:\\n', lf3.rsquared)\n",
    "lf3.conf_int()"
   ]
  },
  {
   "cell_type": "markdown",
   "metadata": {},
   "source": [
    "## Revised Model (Drop Pop_sq)"
   ]
  },
  {
   "cell_type": "code",
   "execution_count": 194,
   "metadata": {},
   "outputs": [
    {
     "name": "stdout",
     "output_type": "stream",
     "text": [
      "Coefficients: \n",
      " [('Population', 0.02205613985643152), ('Murder', 192.48583974233398), ('Robbery', 44.23431331727557)]\n",
      "\n",
      "Intercept: \n",
      " -53.40501615830652\n",
      "\n",
      "R-squared: \n",
      " 0.7088744678562764\n"
     ]
    }
   ],
   "source": [
    "#Instantiate and fit the model\n",
    "regr2=linear_model.LinearRegression()\n",
    "Y2=data['Property_crime']\n",
    "X2=data[['Population','Murder','Robbery']]\n",
    "regr2.fit(X2, Y2)\n",
    "\n",
    "#inspect the results\n",
    "print('Coefficients: \\n', list(zip(X2.columns, regr2.coef_)))\n",
    "print('\\nIntercept: \\n', regr2.intercept_)\n",
    "print('\\nR-squared: \\n', regr2.score(X2, Y2))"
   ]
  },
  {
   "cell_type": "code",
   "execution_count": 210,
   "metadata": {},
   "outputs": [
    {
     "name": "stdout",
     "output_type": "stream",
     "text": [
      "Test Accuracy: 0.6335879299700926\n",
      "\n",
      "Cross Validation Scores: [0.6506852  0.63870207 0.8001555 ]\n",
      "\n",
      "Mean: 0.6965142573216911\n",
      "\n",
      "Standard deviation: 0.07344852772227453\n",
      "RMSE Test Data: 527.2291777163994\n"
     ]
    }
   ],
   "source": [
    "#Splitting data into train and test\n",
    "X2_train, X2_test, y2_train, y2_test = cross_validation.train_test_split(X2, Y2, test_size=0.25, random_state=222)\n",
    "regr2.fit(X2_train, y2_train)\n",
    "y2_pred=regr2.predict(X2_test)\n",
    "accuracy2=regr2.score(X2_test, y2_test)\n",
    "print('Test Accuracy:', accuracy2)\n",
    "\n",
    "#cross validation on train data\n",
    "scores2=model_selection.cross_val_score(regr2, X2_train, y2_train, cv=3)\n",
    "\n",
    "print('\\nCross Validation Scores:', scores2)\n",
    "print('\\nMean:', scores2.mean())\n",
    "print('\\nStandard deviation:', scores2.std())\n",
    "RMSE_test2=np.sqrt(metrics.mean_squared_error(y2_test, y2_pred))\n",
    "print('RMSE Test Data:', RMSE_test2)"
   ]
  },
  {
   "cell_type": "markdown",
   "metadata": {},
   "source": [
    "## Revised Model (Drop Pop_sq and Robbery)"
   ]
  },
  {
   "cell_type": "code",
   "execution_count": 196,
   "metadata": {},
   "outputs": [
    {
     "name": "stdout",
     "output_type": "stream",
     "text": [
      "Coefficients: \n",
      " [('Population', 0.02237984425144918), ('Murder', 201.7950262766855)]\n",
      "\n",
      "Intercept: \n",
      " -32.988681606991804\n",
      "\n",
      "R-squared: \n",
      " 0.7078266130021879\n"
     ]
    }
   ],
   "source": [
    "#Instantiate and fit the model\n",
    "regr3=linear_model.LinearRegression()\n",
    "Y3=data['Property_crime']\n",
    "X3=data[['Population','Murder']]\n",
    "regr3.fit(X3, Y3)\n",
    "\n",
    "#inspect the results\n",
    "print('Coefficients: \\n', list(zip(X3.columns, regr3.coef_)))\n",
    "print('\\nIntercept: \\n', regr3.intercept_)\n",
    "print('\\nR-squared: \\n', regr3.score(X3, Y3))"
   ]
  },
  {
   "cell_type": "code",
   "execution_count": 202,
   "metadata": {},
   "outputs": [
    {
     "name": "stdout",
     "output_type": "stream",
     "text": [
      "Accuracy of Test Data: 0.6443131995126482\n",
      "\n",
      "Cross Validation Scores: [0.63499857 0.63392671 0.7982762 ]\n",
      "\n",
      "Mean: 0.6890671608817147\n",
      "\n",
      "Standard deviation: 0.07722368962328911\n",
      "RMSE Test Data: 519.4555916179131\n"
     ]
    }
   ],
   "source": [
    "#Splitting data into train and test\n",
    "X3_train, X3_test, y3_train, y3_test=cross_validation.train_test_split(X3, Y3, test_size=0.25, random_state=222)\n",
    "regr3.fit(X3_train, y3_train)\n",
    "y3_pred=regr3.predict(X3_test)\n",
    "accuracy3=regr3.score(X3_test, y3_test)\n",
    "print('Accuracy of Test Data:', accuracy3)\n",
    "\n",
    "#cross validation on train data\n",
    "scores3=model_selection.cross_val_score(regr3, X3_train, y3_train, cv=3)\n",
    "\n",
    "print('\\nCross Validation Scores:', scores3)\n",
    "print('\\nMean:', scores3.mean())\n",
    "print('\\nStandard deviation:', scores3.std())\n",
    "RMSE_test3=np.sqrt(metrics.mean_squared_error(y3_test, y3_pred))\n",
    "print('RMSE Test Data:', RMSE_test3)"
   ]
  },
  {
   "cell_type": "markdown",
   "metadata": {},
   "source": [
    "## Validating Model with 2014 Data"
   ]
  },
  {
   "cell_type": "code",
   "execution_count": 198,
   "metadata": {},
   "outputs": [
    {
     "data": {
      "text/html": [
       "<div>\n",
       "<style scoped>\n",
       "    .dataframe tbody tr th:only-of-type {\n",
       "        vertical-align: middle;\n",
       "    }\n",
       "\n",
       "    .dataframe tbody tr th {\n",
       "        vertical-align: top;\n",
       "    }\n",
       "\n",
       "    .dataframe thead th {\n",
       "        text-align: right;\n",
       "    }\n",
       "</style>\n",
       "<table border=\"1\" class=\"dataframe\">\n",
       "  <thead>\n",
       "    <tr style=\"text-align: right;\">\n",
       "      <th></th>\n",
       "      <th>Population</th>\n",
       "      <th>Murder</th>\n",
       "      <th>Robbery</th>\n",
       "      <th>Property_crime</th>\n",
       "    </tr>\n",
       "  </thead>\n",
       "  <tbody>\n",
       "    <tr>\n",
       "      <th>0</th>\n",
       "      <td>1851.000</td>\n",
       "      <td>0.000</td>\n",
       "      <td>0.000</td>\n",
       "      <td>11.000</td>\n",
       "    </tr>\n",
       "    <tr>\n",
       "      <th>1</th>\n",
       "      <td>2568.000</td>\n",
       "      <td>0.000</td>\n",
       "      <td>1.000</td>\n",
       "      <td>49.000</td>\n",
       "    </tr>\n",
       "    <tr>\n",
       "      <th>2</th>\n",
       "      <td>820.000</td>\n",
       "      <td>0.000</td>\n",
       "      <td>0.000</td>\n",
       "      <td>1.000</td>\n",
       "    </tr>\n",
       "    <tr>\n",
       "      <th>3</th>\n",
       "      <td>2842.000</td>\n",
       "      <td>0.000</td>\n",
       "      <td>0.000</td>\n",
       "      <td>17.000</td>\n",
       "    </tr>\n",
       "    <tr>\n",
       "      <th>4</th>\n",
       "      <td>98595.000</td>\n",
       "      <td>1.000</td>\n",
       "      <td>1.000</td>\n",
       "      <td>3888.000</td>\n",
       "    </tr>\n",
       "    <tr>\n",
       "      <th>5</th>\n",
       "      <td>5872.000</td>\n",
       "      <td>0.000</td>\n",
       "      <td>1.000</td>\n",
       "      <td>204.000</td>\n",
       "    </tr>\n",
       "    <tr>\n",
       "      <th>6</th>\n",
       "      <td>1107.000</td>\n",
       "      <td>0.000</td>\n",
       "      <td>0.000</td>\n",
       "      <td>7.000</td>\n",
       "    </tr>\n",
       "    <tr>\n",
       "      <th>7</th>\n",
       "      <td>4032.000</td>\n",
       "      <td>1.000</td>\n",
       "      <td>0.000</td>\n",
       "      <td>30.000</td>\n",
       "    </tr>\n",
       "    <tr>\n",
       "      <th>8</th>\n",
       "      <td>1723.000</td>\n",
       "      <td>0.000</td>\n",
       "      <td>0.000</td>\n",
       "      <td>2.000</td>\n",
       "    </tr>\n",
       "    <tr>\n",
       "      <th>9</th>\n",
       "      <td>118860.000</td>\n",
       "      <td>1.000</td>\n",
       "      <td>1.000</td>\n",
       "      <td>2066.000</td>\n",
       "    </tr>\n",
       "    <tr>\n",
       "      <th>10</th>\n",
       "      <td>2250.000</td>\n",
       "      <td>0.000</td>\n",
       "      <td>0.000</td>\n",
       "      <td>0.000</td>\n",
       "    </tr>\n",
       "    <tr>\n",
       "      <th>11</th>\n",
       "      <td>9509.000</td>\n",
       "      <td>0.000</td>\n",
       "      <td>1.000</td>\n",
       "      <td>198.000</td>\n",
       "    </tr>\n",
       "    <tr>\n",
       "      <th>12</th>\n",
       "      <td>18099.000</td>\n",
       "      <td>0.000</td>\n",
       "      <td>1.000</td>\n",
       "      <td>490.000</td>\n",
       "    </tr>\n",
       "    <tr>\n",
       "      <th>13</th>\n",
       "      <td>846.000</td>\n",
       "      <td>0.000</td>\n",
       "      <td>0.000</td>\n",
       "      <td>6.000</td>\n",
       "    </tr>\n",
       "    <tr>\n",
       "      <th>14</th>\n",
       "      <td>2030.000</td>\n",
       "      <td>0.000</td>\n",
       "      <td>0.000</td>\n",
       "      <td>25.000</td>\n",
       "    </tr>\n",
       "  </tbody>\n",
       "</table>\n",
       "</div>"
      ],
      "text/plain": [
       "    Population  Murder  Robbery  Property_crime\n",
       "0     1851.000   0.000    0.000          11.000\n",
       "1     2568.000   0.000    1.000          49.000\n",
       "2      820.000   0.000    0.000           1.000\n",
       "3     2842.000   0.000    0.000          17.000\n",
       "4    98595.000   1.000    1.000        3888.000\n",
       "5     5872.000   0.000    1.000         204.000\n",
       "6     1107.000   0.000    0.000           7.000\n",
       "7     4032.000   1.000    0.000          30.000\n",
       "8     1723.000   0.000    0.000           2.000\n",
       "9   118860.000   1.000    1.000        2066.000\n",
       "10    2250.000   0.000    0.000           0.000\n",
       "11    9509.000   0.000    1.000         198.000\n",
       "12   18099.000   0.000    1.000         490.000\n",
       "13     846.000   0.000    0.000           6.000\n",
       "14    2030.000   0.000    0.000          25.000"
      ]
     },
     "execution_count": 198,
     "metadata": {},
     "output_type": "execute_result"
    }
   ],
   "source": [
    "#Preparing Data and features for 2014 dataset\n",
    "df_2014['Murder']=df_2014['Murder and\\nnonnegligent\\nmanslaughter'].dropna().map(lambda x: 1 if x > 0 else 0)\n",
    "df_2014['Robbery']=df_2014.Robbery.dropna().map(lambda x: 1 if x > 0 else 0)\n",
    "df_2014['Property_crime']=df_2014['Property\\ncrime']\n",
    "data_2014=df_2014[['Population', 'Murder', 'Robbery', 'Property_crime']].dropna()\n",
    "data_2014.head(15)"
   ]
  },
  {
   "cell_type": "code",
   "execution_count": 208,
   "metadata": {},
   "outputs": [
    {
     "name": "stdout",
     "output_type": "stream",
     "text": [
      "RMSE New York 2014 Data: 2723.3796965365273\n"
     ]
    }
   ],
   "source": [
    "#using second linear regression to predict 2014 data\n",
    "y_pred_2014=lf2.predict(data_2014[['Population','Murder','Robbery']])\n",
    "\n",
    "RMSE_2014=np.sqrt(metrics.mean_squared_error(data_2014['Property_crime'], y_pred_2014))\n",
    "print('RMSE New York 2014 Data:', RMSE_2014)"
   ]
  }
 ],
 "metadata": {
  "kernelspec": {
   "display_name": "Python 3",
   "language": "python",
   "name": "python3"
  },
  "language_info": {
   "codemirror_mode": {
    "name": "ipython",
    "version": 3
   },
   "file_extension": ".py",
   "mimetype": "text/x-python",
   "name": "python",
   "nbconvert_exporter": "python",
   "pygments_lexer": "ipython3",
   "version": "3.6.5"
  }
 },
 "nbformat": 4,
 "nbformat_minor": 2
}
