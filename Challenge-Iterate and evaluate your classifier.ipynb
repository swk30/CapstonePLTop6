{
 "cells": [
  {
   "cell_type": "code",
   "execution_count": 1,
   "metadata": {},
   "outputs": [],
   "source": [
    "import pandas as pd\n",
    "import numpy as np\n",
    "import matplotlib.pyplot as plt\n",
    "import seaborn as sns\n",
    "import scipy.stats as stats\n",
    "import sklearn\n",
    "%matplotlib inline\n",
    "from sklearn.preprocessing import StandardScaler\n",
    "from sklearn.decomposition import PCA"
   ]
  },
  {
   "cell_type": "code",
   "execution_count": 2,
   "metadata": {},
   "outputs": [],
   "source": [
    "data_path=(\"https://raw.githubusercontent.com/Thinkful-Ed/data-201-resources/\"\n",
    "             \"master/sms_spam_collection/SMSSpamCollection\")\n",
    "sms_raw=pd.read_csv(data_path,delimiter=\"\\t\",header=None)\n",
    "sms_raw.columns=['spam', 'message']"
   ]
  },
  {
   "cell_type": "markdown",
   "metadata": {},
   "source": [
    "Utilizing Bernoulli classifier, cross validation and confusion matrix to test the following model. "
   ]
  },
  {
   "cell_type": "code",
   "execution_count": 3,
   "metadata": {},
   "outputs": [],
   "source": [
    "keywords=['click', 'offer', 'winner', 'buy', 'free', 'cash', 'urgent', 'win', 'boss', 'strings', 'opportunity', 'double', \n",
    "          'easy']\n",
    "for key in keywords:\n",
    "    sms_raw[str(key)] = sms_raw.message.str.contains(\n",
    "        str(key), case=False)"
   ]
  },
  {
   "cell_type": "code",
   "execution_count": 4,
   "metadata": {},
   "outputs": [],
   "source": [
    "data=sms_raw[keywords]\n",
    "tgt=sms_raw['spam']"
   ]
  },
  {
   "cell_type": "code",
   "execution_count": 19,
   "metadata": {},
   "outputs": [
    {
     "name": "stdout",
     "output_type": "stream",
     "text": [
      "Number of mislabeled points out of a total of 5572 points : 506\n"
     ]
    }
   ],
   "source": [
    "from sklearn.naive_bayes import BernoulliNB\n",
    "#bernoulli classifier\n",
    "bnb=BernoulliNB()\n",
    "bnb.fit(data,tgt)\n",
    "y_pred=bnb.predict(data)\n",
    "data.shape[0]\n",
    "print(\"Number of mislabeled points out of a total of {} points : {}\".format(\n",
    "     data.shape[0],\n",
    "     (tgt!=y_pred).sum()\n",
    "))"
   ]
  },
  {
   "cell_type": "code",
   "execution_count": 9,
   "metadata": {},
   "outputs": [],
   "source": [
    "from sklearn import datasets, linear_model\n",
    "from sklearn.model_selection import train_test_split\n",
    "X1=data\n",
    "Y1=tgt\n",
    "X1_train, X1_test, Y1_train, Y1_test=train_test_split(X1,Y1,test_size=0.1)"
   ]
  },
  {
   "cell_type": "code",
   "execution_count": 23,
   "metadata": {},
   "outputs": [
    {
     "name": "stdout",
     "output_type": "stream",
     "text": [
      "Score: 0.8995515695067264\n",
      "Score: 0.9112107623318386\n",
      "Score: 0.9165170556552962\n",
      "Score: 0.9192100538599641\n",
      "Score: 0.8994614003590664\n"
     ]
    }
   ],
   "source": [
    "#cross validation\n",
    "from sklearn.naive_bayes import BernoulliNB\n",
    "from sklearn.model_selection import KFold\n",
    "kf = KFold(n_splits = 5, shuffle=True, random_state = 45)\n",
    "bnb = BernoulliNB() \n",
    "for train_index, test_index in kf.split(X1):\n",
    "    X1_train, X1_test = X1.iloc[train_index], X1.iloc[test_index]\n",
    "    Y1_train, Y1_test = Y1.iloc[train_index], Y1.iloc[test_index]\n",
    "    bnb = bnb.fit(X1_train, Y1_train)\n",
    "    print(\"Score:\", bnb.score(X1_test, Y1_test))"
   ]
  },
  {
   "cell_type": "code",
   "execution_count": 24,
   "metadata": {},
   "outputs": [
    {
     "name": "stdout",
     "output_type": "stream",
     "text": [
      "[[4722  103]\n",
      " [ 403  344]]\n",
      "Sensitivity:  0.4605087014725569\n",
      "Specificity:  0.9786528497409327\n"
     ]
    }
   ],
   "source": [
    "#confusion matrix\n",
    "from sklearn.metrics import confusion_matrix\n",
    "A = confusion_matrix(tgt, y_pred)\n",
    "print(A)\n",
    "print(\"Sensitivity: \", A[1,1] / (A[1,0]+A[1,1]))\n",
    "print(\"Specificity: \", A[0,0] / (A[0,1]+A[0,0]))"
   ]
  }
 ],
 "metadata": {
  "kernelspec": {
   "display_name": "Python 3",
   "language": "python",
   "name": "python3"
  },
  "language_info": {
   "codemirror_mode": {
    "name": "ipython",
    "version": 3
   },
   "file_extension": ".py",
   "mimetype": "text/x-python",
   "name": "python",
   "nbconvert_exporter": "python",
   "pygments_lexer": "ipython3",
   "version": "3.6.5"
  }
 },
 "nbformat": 4,
 "nbformat_minor": 2
}
